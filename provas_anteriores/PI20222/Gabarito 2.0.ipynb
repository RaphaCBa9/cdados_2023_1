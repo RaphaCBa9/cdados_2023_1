{
 "cells": [
  {
   "cell_type": "markdown",
   "metadata": {},
   "source": [
    "# A2 - Avaliação de Ciência dos dados \n",
    "\n",
    "## 2022 - 1o. semestre \n",
    "\n",
    "___\n"
   ]
  },
  {
   "attachments": {},
   "cell_type": "markdown",
   "metadata": {},
   "source": [
    "# NOME: Raphael Cavalcanti Banov\n",
    "\n",
    "### E-mail: raphaelb3@al.insper.edu.br"
   ]
  },
  {
   "cell_type": "markdown",
   "metadata": {},
   "source": [
    "___\n",
    "## Instruções\n",
    "\n",
    "**Leia atentamente as instruções desta avaliação. Essas devem ser seguidas rigorosamente!**\n",
    "\n",
    "**Prezado(a) Aluno(a),**\n",
    "\n",
    "Dia da prova **dia 05/04** das 10h às 13h.\n",
    "\n",
    "Esta avaliação terá as seguintes etapas:\n",
    "\n",
    "**10h00 às 10h10**\n",
    "       \n",
    " * **(10 minutos) - PROCTORIO:** Entre no Blackboard e inicie o teste em `Conteúdos/Avaliações/Avaliação (A2)/A2 (Proctorio e Arquivos)`. Caso não ative esse teste em até 10 minutos do início da prova (ou seja, até às 10h10), não terá mais direito de entregar essa prova, obtendo falta na mesma.\n",
    "\n",
    "\n",
    "**10h10 às 12h10**  \n",
    "\n",
    " * **(120 minutos) - Desenvolvimento da prova:** Concentre-se em resolver o notebook.\n",
    " * ATENÇÃO: administre esse tempo da maneira que julgar mais adequada para você. **NÃO utilize o cronômetro do Proctorio como referência, mas sim o tempo 120 minutos de prova para realização da prova.**\n",
    "\n",
    "\n",
    "**12h10 às 12h20**  \n",
    " * **(10 minutos) - Entrega via Blackboard - Notebook:** O arquivo `.ipynb` deve ser entregue em `Conteúdos/Avaliações/Avaliação (A2)/Entrega da prova`. \n",
    " * ATENÇÃO: **finalize o proctorio APENAS após anexar a avaliação no Blackboard.**\n",
    "\n",
    "\n",
    "<br>\n",
    "\n",
    "Leia atentamente as instruções a seguir e as questões da prova antes de começar a resolvê-la."
   ]
  },
  {
   "cell_type": "markdown",
   "metadata": {},
   "source": [
    "#### Avisos GERAIS: \n",
    "\n",
    "1. Identifique-se no cabeçalho deste arquivo. Essa prova é INDIVIDUAL.\n",
    "1. Você terá 120 minutos a partir do início oficial da prova para concluir esta avaliação, administre bem o seu tempo. Leia atentamente as instruções a seguir e as questões da prova antes de começar a resolvê-la. \n",
    "\n",
    "1. Esta avaliação:\n",
    "  * **PERMITE consulta de material do Blackboard e material on-line (usar navegador para pesquisas no Google, por exemplo)**. \n",
    "  * **NÃO PERMITE consulta de caderno ou qualquer outro material físico.**\n",
    "  * **NÃO PERMITE consulta a colegas (presencial ou remotamente), ou seja, não é permitido ter alguém ao seu lado assim como não é permitido conversar pelo WhatsApp, enviar e-mail ou qualquer outro formato em que converse com outra pessoa**. \n",
    "  * **PERMITE UTILIZAR APENAS UM COMPUTADOR NO QUAL ESTARÁ REALIZANDO A PROVA.**\n",
    "  * **NÃO PERMITE utilizar CELULAR, TABLET, SEGUNDO COMPUTADOR (ou NOTEBOOK) ou qualquer outro aparelho eletrônico no momento da prova.**\n",
    "  * **O desrespeito as essas regras constituirá violação ao Código de Ética e de Conduta e acarretará sanções nele previstas. Faça o seu trabalho de maneira ética!** \n",
    "\n",
    "1. Sua prova utilizará o sistema de Proctoring.  Para instalar a extensão, acesse o site https://getproctorio.com/ pelo Google Chrome e siga os passos indicados. Caso tenha dúvidas ou dificuldades, avise seu professor pelo chat e entre em contato com o Help Desk por meio de abertura de chamado ou pelo telefone (11) 4504-2550.\n",
    "Para realizar a prova será necessário:\n",
    "  *\tUm desktop ou um notebook com qualquer sistema operacional (dispositivos móveis não serão aceitos)\n",
    "  *\tNavegador Google Chrome (o sistema funciona somente nele)\n",
    "  *\tExtensão da plataforma instalada (sem ela o sistema não funcionará)\n",
    "\n",
    "1. **É proibido o uso de fones de ouvido durante toda a prova. Não leia as questões em voz alta. Não ouvir música.**\n",
    "1. **ENTREGA DO ARQUIVO**: Antes de sair da prova, garanta que entregou a prova no link indicado. Verifique se o arquivo das questões resolvidas teve seu upload concluído e que fechou o teste ao final. Você é o responsável pela entrega adequada de todas as questões de sua prova. Avaliações entregues fora do prazo não serão aceitas para correção.\n",
    "1. Caso precise se ausentar da prova para ir ao banheiro, comunique o(a) professor(a). Lembre-se de ser rápido e retornar prontamente à prova."
   ]
  },
  {
   "cell_type": "markdown",
   "metadata": {},
   "source": [
    "#### Avisos sobre desenvolvimento da prova:\n",
    "\n",
    "1. Esta Avaliação consiste em responder um arquivo Jupyter que será anexado ao Blackboard ao final da prova.\n",
    "1. Leia atentamente as **Precauções de segurança** abaixo para evitar ter sua prova anulada.\n",
    "1. Você não pode compartilhar material com seus colegas durante a prova.\n",
    "1. Em caso de dúvida sobre alguma questão desta avaliação, redija um texto em uma nova célula deste Jupyter notebook explicitando-a para que o professor avalie a pertinência durante a correção.  \n",
    "1. Leia atentamente cada questão e responda o que for pedido. Erros conceituais serão penalizados, mesmo que o conceito não se relacione com o que foi pedido na questão.\n",
    "1. Caso em algum item você necessite do resultado de um item anterior que você não conseguiu fazer, admita um valor razoável para esse resultado e faça o item normalmente. Indique na questão, caso isso aconteça.\n",
    "1. Todos os resultados devem ser justificados. Números que apareçam sem uma explicação de como foram encontrados serão ignorados na correção.\n",
    "1. **A qualidade do código na resolução em cada item também será levada em consideração, ou seja, códigos complicados para soluções que podem ser simples serão penalizados.**\n",
    "1. Esta avaliação requer **entrega via Blackboard**. **Não serão consideradas entregas por outros meios** (ex: e-mail, MS Teams, etc.)."
   ]
  },
  {
   "cell_type": "markdown",
   "metadata": {},
   "source": [
    "#### Precauções de segurança:\n",
    "\n",
    "1.\tTodas as precauções abaixo podem ser resumidas da seguinte forma: consulte o material que quiser desde que não seja nenhuma pessoa ou material físico. E não compartilhe informações com ninguém durante a prova. \n",
    "2.\tVocê não pode enviar nenhum tipo de mensagem durante a prova para qualquer pessoa dentro ou fora dela, com exceção do(a) professor(a). Por exemplo: e-mail, Skype, mensagens do Facebook, mensagens do WhatsApp, mensagens via Twitter, etc\n",
    "3.\tVocê não pode compartilhar nenhum tipo de informação em nenhum site, incluindo Pastebin, Codeshare, wikis, etc\n",
    "4.\tVocê não pode perguntar questões da prova no StackOverflow, StackExchange, MathExchange, etc. \n",
    "5.\tVocê pode procurar/tirar dúvida no Google.\n",
    "6.\tVocê pode consultar qualquer arquivo no seu computador.\n",
    "7.  Você pode usar folha de sulfite da sala solicitando ao professor. Escreva seu nome na mesma com letras grandes.\n",
    "8.\tQualquer transgressão das normas acima pode zerar a nota da prova e implicar em infração ao código de ética do Insper."
   ]
  },
  {
   "cell_type": "markdown",
   "metadata": {},
   "source": [
    "___\n",
    "<div id=\"indice\"></div>\n",
    "\n",
    "## Índice\n",
    "\n",
    "- [PRAIAS - PERGUNTA 1](#p1) **[3,00 pontos]**\n",
    "    - [item (a)](#p1a)\n",
    "    - [item (b)](#p1b)\n",
    "    - [item (c)](#p1c)\n",
    "    - [item (d)](#p1d)    \n",
    "\n",
    "<br>\n",
    "\n",
    "- [RODOVIA - PERGUNTA 2](#p2) **[2,00 pontos]**\n",
    "    - [item (a)](#p2a)\n",
    "    - [item (b)](#p2b)\n",
    "    - [item (c)](#p2c)\n",
    "    - [item (d)](#p2d)\n",
    "    \n",
    "<br>\n",
    "\n",
    "- [SEGURADORA - PROBLEMA](#seg)\n",
    "    - [Dicionário das variáveis](#dic)\n",
    "    - [Base de dados](#df)\n",
    "\n",
    "<br>\n",
    "    \n",
    "- [SEGURADORA - PERGUNTA 3](#p3) **[3,00 pontos]**\n",
    "    - [item (a)](#p3a)\n",
    "    - [item (b)](#p3b)\n",
    "    \n",
    "<br>\n",
    "\n",
    "- [SEGURADORA - PERGUNTA 4](#p3) **[2,00 pontos]**\n",
    "    - [item (a)](#p4a)\n",
    "    - [item (b)](#p4b)\n",
    "\n"
   ]
  },
  {
   "cell_type": "code",
   "execution_count": 22,
   "metadata": {},
   "outputs": [],
   "source": [
    "# %matplotlib inline\n",
    "import math\n",
    "import os\n",
    "import matplotlib.pyplot as plt\n",
    "import numpy as np\n",
    "from numpy import arange\n",
    "import pandas as pd\n",
    "from scipy import stats\n",
    "\n",
    "from IPython.display import display  # Para ter melhor print."
   ]
  },
  {
   "cell_type": "markdown",
   "metadata": {},
   "source": [
    "___\n",
    "<div id=\"p1\"></div>\n",
    "\n",
    "## Praias\n",
    "\n",
    "<img src=\"praia.jpg\">\n",
    "Fonte: extraído da internet\n",
    "\n",
    "### PERGUNTA 1  (3,00 pontos)\n",
    "\n",
    "Sabemos que paulistas amam praia, a ponto de lotar as estradas em feriados prolongados. Entretanto, uma preocupação no momento da escolha da praia é: a praia escolhida é própria para banho?\n",
    "\n",
    "Segundo os critérios estabelecidos na Resolução CONAMA – Conselho Nacional do Meio Ambiente – nº 274/00 , vigente desde janeiro de 2001, as praias são classificadas em ralação à balneabilidade, em 2 categorias: **Própria** e **Imprópria**. As praias Próprias para banho ainda podem receber uma classificação de qualidade: Excelente, Muito boa ou Satisfatória.\n",
    "\n",
    "Assuma que a classificação seja realizada com base apenas na concentração de Enterococos, medida em **UFC/ml** (unidade de formação de colônicas por mililitros - é uma unidade de medida usada para estimar o número de bactérias ou fungos viáveis).\n",
    "\n",
    "RESPONDA:"
   ]
  },
  {
   "attachments": {},
   "cell_type": "markdown",
   "metadata": {},
   "source": [
    "<div id=\"p1a\"></div>\n",
    "No item a), considere uma praia cuja média de Enterococos seja de **370 UFC/ml**.\n",
    "\n",
    "**a)** Praias com concentração de Enterococos superior a **400 UFC/ml** na última medição são imediatamente consideradas impróprias. Qual a probabilidade desta praia ser considerada **Imprópria para banho** segundo este critério?"
   ]
  },
  {
   "cell_type": "code",
   "execution_count": 26,
   "metadata": {},
   "outputs": [
    {
     "name": "stdout",
     "output_type": "stream",
     "text": [
      "0.942152520521749\n",
      "0.057847479478250974\n"
     ]
    }
   ],
   "source": [
    "mu = 370\n",
    "prob = stats.poisson.cdf(400, mu)  # Probabilidade de ter 400 ou menos.\n",
    "print(prob)\n",
    "print(1-prob)"
   ]
  },
  {
   "cell_type": "markdown",
   "metadata": {},
   "source": [
    "Para os items b), c) e d), considere uma praia cuja concentraçao média de Enterococos seja de **47 UFC/ml**.\n",
    "\n",
    "<div id=\"p1b\"></div>\n",
    "\n",
    "**b)** Praias com concentração (Enterococos) de no máximo **50 UFC/ml** em pelo menos 80% das medições são consideradas como de qualidade **própria para banho**, com qualidade **Muito boa!**.\n",
    "\n",
    "Sabendo que serão realizadas 10 medições (independentes) para tomada de decisão, qual a probabilidade desta praia obter qualificação **própria para banho** com qualidade **Muito boa**?\n",
    "\n"
   ]
  },
  {
   "cell_type": "code",
   "execution_count": 37,
   "metadata": {},
   "outputs": [
    {
     "name": "stdout",
     "output_type": "stream",
     "text": [
      "0.7014080023112591\n",
      "0.386548514441619\n"
     ]
    }
   ],
   "source": [
    "mu = 47\n",
    "probmax = stats.poisson.cdf(50,mu) # Probabilidade de ter 50 ou menos.\n",
    "print(probmax)\n",
    "prob2 = stats.binom.cdf(7, 10, probmax) \n",
    "print(1-prob2)"
   ]
  },
  {
   "cell_type": "code",
   "execution_count": null,
   "metadata": {},
   "outputs": [],
   "source": []
  },
  {
   "cell_type": "markdown",
   "metadata": {},
   "source": [
    "<div id=\"p1c\"></div>\n",
    "\n",
    "**c)** Seja a variável aleatória **$X$**: *número de medições com concentração de Enterococos de no máximo **50 UFC/ml** considerando **10** medições independentes*.\n",
    "\n",
    "Calcule o valor esperado e o desvio padrão de **$X$**."
   ]
  },
  {
   "cell_type": "code",
   "execution_count": 5,
   "metadata": {},
   "outputs": [
    {
     "name": "stdout",
     "output_type": "stream",
     "text": [
      "7.014080023112591\n",
      "1.4471862927936674\n"
     ]
    }
   ],
   "source": [
    "expected = stats.binom.mean(10,probmax)\n",
    "print(expected)\n",
    "std = stats.binom.std(10,probmax)\n",
    "print(std)"
   ]
  },
  {
   "cell_type": "markdown",
   "metadata": {},
   "source": [
    "<div id=\"p1d\"></div>\n",
    "\n",
    "**d)** Uma startup pretende oferecer para a prefeitura onde esta praia está localizada uma solução de tratamento biológico para melhorar a qualidade da água da praia. Após experimentos, a empresa prometeu um aumento de 20% no número de medições com concentração (Enterococos) de no máximo **50 UFC/ml**.\n",
    "\n",
    "Caso o aumento seja de exatamente 20%, calcule o Valor Esperado e o Desvio Padrão de **$Y$**: *número de medições com concentração de Enterococos de no máximo **50 UFC/ml** considerando **10** medições independentes após o uso da solução de tratamento*."
   ]
  },
  {
   "cell_type": "code",
   "execution_count": 6,
   "metadata": {},
   "outputs": [
    {
     "name": "stdout",
     "output_type": "stream",
     "text": [
      "8.416896027735108\n"
     ]
    }
   ],
   "source": [
    "# E(x*d) = d*E(x)\n",
    "print(expected*1.2)"
   ]
  },
  {
   "cell_type": "code",
   "execution_count": 39,
   "metadata": {},
   "outputs": [
    {
     "name": "stdout",
     "output_type": "stream",
     "text": [
      "1.2645072495947836\n"
     ]
    }
   ],
   "source": [
    "print(std*math.sqrt(1.2))"
   ]
  },
  {
   "cell_type": "markdown",
   "metadata": {},
   "source": [
    "Referências da questão (não precisa acessar para responder a questão):\n",
    "- https://cetesb.sp.gov.br/praias/criterios-para-classificacao-das-praias/\n",
    "- https://cetesb.sp.gov.br/praias/wp-content/uploads/sites/31/2013/11/res_conama_274_00.pdf"
   ]
  },
  {
   "cell_type": "markdown",
   "metadata": {},
   "source": [
    "[Volta ao Índice](#indice)"
   ]
  },
  {
   "cell_type": "markdown",
   "metadata": {},
   "source": [
    "___\n",
    "<div id=\"p2\"></div>\n",
    "\n",
    "### RODOVIA\n",
    "<img src=\"rodovia.jpg\">\n",
    "\n",
    "Fonte: extraído da internet\n",
    "\n",
    "\n",
    "### PERGUNTA 2 (2,00 pontos)\n",
    "\n",
    "Uma administradora identificou na rodovia concedida **colisão traseira** e **capotamento** como os dois principais tipos de acidentes.\n",
    "\n",
    "Considerando um cenário onde apenas estes dois tipos de acidentes de trânsito acontecem, $65\\%$ dos acidentes são colisões traseiras e $35\\%$ capotamentos.\n",
    "\n",
    "RESPONDA:"
   ]
  },
  {
   "cell_type": "markdown",
   "metadata": {},
   "source": [
    "<div id=\"p2a\"></div>\n",
    "\n",
    "**a)** Supondo que um novo acidente acabou de ocorrer. Como socorrista, você deve dar um palpite se o acidente é uma colisão traseira ou um capotamento com base **APENAS** nas informações recebidas até o momento na questão. Qual decisão você tomaria? Justifique."
   ]
  },
  {
   "cell_type": "markdown",
   "metadata": {},
   "source": [
    "\n",
    "Colisão Traseira: 65%\n",
    "Capotamentos: 35%\n",
    "\n",
    "De acordo com a teoria da probabilidade, quanto maior a probabilidade, dado um espaço amostral, mais chances ela tem de acontecer. Se eu fosse o socorrista, meu palpite seria dado como \"Colisão Traseira\" como acidente ocorrido"
   ]
  },
  {
   "cell_type": "markdown",
   "metadata": {},
   "source": [
    "#### INFORMAÇÃO ADICIONAL\n",
    "Considere que quando acontecem **capotamentos**, em $5,06\\%$ das vezes a `chuva` é apontada como fator principal. Já nas **colisões traseiras**, a `chuva` é apontada como fator principal em $0,64\\%$ dos acidentes."
   ]
  },
  {
   "cell_type": "markdown",
   "metadata": {},
   "source": [
    "Antes de prosseguir, escreva os eventos e probabilidades disponibilizadas até aqui:"
   ]
  },
  {
   "cell_type": "markdown",
   "metadata": {},
   "source": [
    "Colisão 65%\n",
    "Capote 35%\n",
    "Em 5,06% dos capotamentos, a chuva é o principal fator causador.\n",
    "Em 0,64% das colisões traseiras, a chuva é o principal fator causador."
   ]
  },
  {
   "cell_type": "markdown",
   "metadata": {},
   "source": [
    "<div id=\"p2b\"></div>\n",
    "\n",
    "**b)** Calcule a probabilidade da chuva ser apontada como fator principal da causa dos acidentes."
   ]
  },
  {
   "cell_type": "code",
   "execution_count": 31,
   "metadata": {},
   "outputs": [
    {
     "name": "stdout",
     "output_type": "stream",
     "text": [
      "0.02187\n"
     ]
    }
   ],
   "source": [
    "probabilidade_capotamento = 0.35\n",
    "probabilidade_colisao = 0.65\n",
    "print(probabilidade_capotamento*(5.06/100) + probabilidade_colisao*(0.64/100))\n"
   ]
  },
  {
   "cell_type": "markdown",
   "metadata": {},
   "source": [
    "<div id=\"p2c\"></div>\n",
    "\n",
    "**c)** Se a chuva foi apontada como fator principal de causa do acidente, qual a probabiliade de ter sido um capotamento?"
   ]
  },
  {
   "cell_type": "markdown",
   "metadata": {},
   "source": [
    "Probabilidade de, dada a chuva, ter sido um capotamento"
   ]
  },
  {
   "cell_type": "code",
   "execution_count": 32,
   "metadata": {},
   "outputs": [
    {
     "name": "stdout",
     "output_type": "stream",
     "text": [
      "0.809785093735711\n"
     ]
    }
   ],
   "source": [
    "P_capotamento_dado_chuva = (probabilidade_capotamento*(5.06/100))/0.02187\n",
    "print(P_capotamento_dado_chuva)"
   ]
  },
  {
   "cell_type": "markdown",
   "metadata": {},
   "source": [
    "<div id=\"p2d\"></div>\n",
    "\n",
    "**d)** Supondo que você saiba que a chuva foi apontada como fator principal da causa de um aciente, mas não sabe se foi um capotamento ou colisão traseira.\n",
    "\n",
    "Caso tenha que novamente dar um palpite entre ser uma colisão traseira ou um capotamento, o que escolheria. Justifique."
   ]
  },
  {
   "cell_type": "markdown",
   "metadata": {},
   "source": [
    "O capotamento tem maior probabilidade de ter ocorrido dado que houve chuva do que colisao traseira dado que houve chuva, então, o palpite eu daria que foi um capotamento."
   ]
  },
  {
   "cell_type": "markdown",
   "metadata": {},
   "source": [
    "[Volta ao Índice](#indice)"
   ]
  },
  {
   "cell_type": "markdown",
   "metadata": {},
   "source": [
    "___\n",
    "<div id=\"seg\"></div>\n",
    "\n",
    "### SEGURADORA\n",
    "<img src=\"seguradora.jpg\">\n",
    "\n",
    "Fonte: extraído da internet"
   ]
  },
  {
   "cell_type": "markdown",
   "metadata": {},
   "source": [
    "___\n",
    "<div id=\"p3problema\"></div>\n",
    "\n",
    "**PROBLEMA**\n",
    "\n",
    "Uma seguradora deseja estudar se o custo do sinistro relacionado a danos materiais a terceiros e o número de ocorrências desse tipo de sinistro dependem da idade do principal motorista do veículo. Para isso, foi coletada uma amostra aleatória de clientes da seguradora, com apólice anual vigente em 2020, e montou-se uma base de dados contendo as seguintes variáveis:\n"
   ]
  },
  {
   "cell_type": "markdown",
   "metadata": {},
   "source": [
    "<div id=\"dic\"></div>\n",
    "\n",
    "**DICIONÁRIO DAS VARIÁVEIS**\n",
    "\n",
    "Algumas das variáveis (com nome em inglês) apresentadas na base de dados `seguradora.xlsx` são:\n",
    " * **CUSTO(em milhares de reais)**: valor pago pela seguradora quando seu cliente é culpado por danos materiais a terceiros na vigência da apólice de seguros;\n",
    " * **FREQ**: número de sinistros (vezes em que a seguradora é acionada) por danos materiais a terceiros de um cliente da seguradora na vigência anual da apólice de seguros;\n",
    " * **FAIXA ETÁRIA**: faixa etária do principal motorista do veículo segurado dividida nas seguintes categorias: JOVEM (de 18 a 30 anos), ADULTO (de 31 a 59 anos) e IDOSO (de 60 ou mais anos).\n",
    "\n",
    " "
   ]
  },
  {
   "cell_type": "markdown",
   "metadata": {},
   "source": [
    "<div id=\"df\"></div>\n",
    "\n",
    "**BASE DE DADOS**\n",
    "\n",
    "Para a Pergunta [3](#p3), vamos utilizar a seguinte base de dados:"
   ]
  },
  {
   "cell_type": "code",
   "execution_count": 8,
   "metadata": {},
   "outputs": [
    {
     "name": "stdout",
     "output_type": "stream",
     "text": [
      "Esperamos trabalhar no diretório\n",
      "c:\\Users\\rapha\\OneDrive - Insper - Institudo de Ensino e Pesquisa\\Área de Trabalho\\Faculdade\\3 semestre\\cdados_dp\\cdados_2023_1\\provas_anteriores\\PI20222\n"
     ]
    }
   ],
   "source": [
    "print(\"Esperamos trabalhar no diretório\")\n",
    "print(os.getcwd())"
   ]
  },
  {
   "cell_type": "code",
   "execution_count": 9,
   "metadata": {},
   "outputs": [
    {
     "name": "stdout",
     "output_type": "stream",
     "text": [
      "Parece que o arquivo seguradora.xlsx está na mesma pasta do notebook da avaliação, yay!\n",
      "\n"
     ]
    }
   ],
   "source": [
    "filename = 'seguradora.xlsx'\n",
    "\n",
    "if filename in os.listdir():\n",
    "    print(f'Parece que o arquivo {filename} está na mesma pasta do notebook da avaliação, yay!\\n')\n",
    "    \n",
    "else:\n",
    "    print(f'Não encontrei o arquivo {filename}.\\n'\n",
    "          f'O notebook e os arquivos de dados desta avaliação devem ser salvos dentro da mesma pasta no seu computador.\\n')"
   ]
  },
  {
   "cell_type": "code",
   "execution_count": 10,
   "metadata": {
    "scrolled": true
   },
   "outputs": [],
   "source": [
    "# Carregando os dados e guardando em um dataframe nomeado df\n",
    "df = pd.read_excel(filename)"
   ]
  },
  {
   "cell_type": "code",
   "execution_count": 43,
   "metadata": {
    "scrolled": false
   },
   "outputs": [
    {
     "data": {
      "text/html": [
       "<div>\n",
       "<style scoped>\n",
       "    .dataframe tbody tr th:only-of-type {\n",
       "        vertical-align: middle;\n",
       "    }\n",
       "\n",
       "    .dataframe tbody tr th {\n",
       "        vertical-align: top;\n",
       "    }\n",
       "\n",
       "    .dataframe thead th {\n",
       "        text-align: right;\n",
       "    }\n",
       "</style>\n",
       "<table border=\"1\" class=\"dataframe\">\n",
       "  <thead>\n",
       "    <tr style=\"text-align: right;\">\n",
       "      <th></th>\n",
       "      <th>ID</th>\n",
       "      <th>CUSTO</th>\n",
       "      <th>FREQ</th>\n",
       "      <th>IDADE</th>\n",
       "    </tr>\n",
       "  </thead>\n",
       "  <tbody>\n",
       "    <tr>\n",
       "      <th>98</th>\n",
       "      <td>101</td>\n",
       "      <td>12.107472</td>\n",
       "      <td>1</td>\n",
       "      <td>IDOSO</td>\n",
       "    </tr>\n",
       "    <tr>\n",
       "      <th>99</th>\n",
       "      <td>102</td>\n",
       "      <td>8.633466</td>\n",
       "      <td>2</td>\n",
       "      <td>IDOSO</td>\n",
       "    </tr>\n",
       "    <tr>\n",
       "      <th>100</th>\n",
       "      <td>103</td>\n",
       "      <td>6.702609</td>\n",
       "      <td>2</td>\n",
       "      <td>IDOSO</td>\n",
       "    </tr>\n",
       "    <tr>\n",
       "      <th>101</th>\n",
       "      <td>104</td>\n",
       "      <td>5.729722</td>\n",
       "      <td>1</td>\n",
       "      <td>IDOSO</td>\n",
       "    </tr>\n",
       "    <tr>\n",
       "      <th>102</th>\n",
       "      <td>105</td>\n",
       "      <td>10.933896</td>\n",
       "      <td>5</td>\n",
       "      <td>IDOSO</td>\n",
       "    </tr>\n",
       "  </tbody>\n",
       "</table>\n",
       "</div>"
      ],
      "text/plain": [
       "      ID      CUSTO  FREQ  IDADE\n",
       "98   101  12.107472     1  IDOSO\n",
       "99   102   8.633466     2  IDOSO\n",
       "100  103   6.702609     2  IDOSO\n",
       "101  104   5.729722     1  IDOSO\n",
       "102  105  10.933896     5  IDOSO"
      ]
     },
     "execution_count": 43,
     "metadata": {},
     "output_type": "execute_result"
    }
   ],
   "source": [
    "# Visualizando as primeiras linhas do dataframe\n",
    "df.head(10)\n",
    "filtra_idoso = df.IDADE == 'IDOSO'\n",
    "idosos = df.loc[filtra_idoso,:]\n",
    "filtra_jovem = df.IDADE == \"JOVEM\"\n",
    "jovens = df.loc[filtra_jovem,:]\n",
    "idosos.head()"
   ]
  },
  {
   "cell_type": "code",
   "execution_count": 15,
   "metadata": {},
   "outputs": [
    {
     "data": {
      "text/html": [
       "<div>\n",
       "<style scoped>\n",
       "    .dataframe tbody tr th:only-of-type {\n",
       "        vertical-align: middle;\n",
       "    }\n",
       "\n",
       "    .dataframe tbody tr th {\n",
       "        vertical-align: top;\n",
       "    }\n",
       "\n",
       "    .dataframe thead th {\n",
       "        text-align: right;\n",
       "    }\n",
       "</style>\n",
       "<table border=\"1\" class=\"dataframe\">\n",
       "  <thead>\n",
       "    <tr style=\"text-align: right;\">\n",
       "      <th></th>\n",
       "      <th>ID</th>\n",
       "      <th>CUSTO</th>\n",
       "      <th>FREQ</th>\n",
       "      <th>IDADE</th>\n",
       "    </tr>\n",
       "  </thead>\n",
       "  <tbody>\n",
       "    <tr>\n",
       "      <th>0</th>\n",
       "      <td>1</td>\n",
       "      <td>27.175868</td>\n",
       "      <td>2</td>\n",
       "      <td>JOVEM</td>\n",
       "    </tr>\n",
       "    <tr>\n",
       "      <th>1</th>\n",
       "      <td>2</td>\n",
       "      <td>23.968298</td>\n",
       "      <td>5</td>\n",
       "      <td>JOVEM</td>\n",
       "    </tr>\n",
       "    <tr>\n",
       "      <th>2</th>\n",
       "      <td>3</td>\n",
       "      <td>0.000000</td>\n",
       "      <td>0</td>\n",
       "      <td>JOVEM</td>\n",
       "    </tr>\n",
       "    <tr>\n",
       "      <th>3</th>\n",
       "      <td>4</td>\n",
       "      <td>21.323651</td>\n",
       "      <td>2</td>\n",
       "      <td>JOVEM</td>\n",
       "    </tr>\n",
       "    <tr>\n",
       "      <th>4</th>\n",
       "      <td>5</td>\n",
       "      <td>12.326002</td>\n",
       "      <td>3</td>\n",
       "      <td>JOVEM</td>\n",
       "    </tr>\n",
       "  </tbody>\n",
       "</table>\n",
       "</div>"
      ],
      "text/plain": [
       "   ID      CUSTO  FREQ  IDADE\n",
       "0   1  27.175868     2  JOVEM\n",
       "1   2  23.968298     5  JOVEM\n",
       "2   3   0.000000     0  JOVEM\n",
       "3   4  21.323651     2  JOVEM\n",
       "4   5  12.326002     3  JOVEM"
      ]
     },
     "execution_count": 15,
     "metadata": {},
     "output_type": "execute_result"
    }
   ],
   "source": [
    "jovens.head()"
   ]
  },
  {
   "cell_type": "markdown",
   "metadata": {},
   "source": [
    "___\n",
    "<div id=\"p3\"></div>\n",
    "\n",
    "### PERGUNTA 3  (3,00 pontos)\n",
    "\n",
    "RESPONDA:"
   ]
  },
  {
   "cell_type": "markdown",
   "metadata": {},
   "source": [
    "<div id=\"p3a\"></div>\n",
    "\n",
    "**a)** Considere a seguinte afirmação:\n",
    "\n",
    " > \"A relação entre as variáveis `FREQ` e `CUSTO` é mais forte entre os segurados idosos do que entre os jovens\".\n",
    "\n",
    "Faça a **construção de gráficos adequados** e também do **cálculo de medidas numéricas adequadas**, use-**os** para validar ou refutar a afirmação acima."
   ]
  },
  {
   "cell_type": "markdown",
   "metadata": {},
   "source": [
    "**Após suas análises, sinalize abaixo com X na sua escolha:** \n",
    "  * (X) Afirmação é válida após análises feitas a seguir\n",
    "  * (..) Afirmação **NÃO** é válida após  análises feitas a seguir"
   ]
  },
  {
   "cell_type": "markdown",
   "metadata": {},
   "source": [
    "**A seguir, faça suas análises adequadas conforme solicitado e JUSTIFIQUE sua decisão quanto a validade ou não da afirmação:**"
   ]
  },
  {
   "cell_type": "code",
   "execution_count": 46,
   "metadata": {},
   "outputs": [
    {
     "name": "stdout",
     "output_type": "stream",
     "text": [
      "0.4296235235239623\n",
      "0.7132649197864502\n"
     ]
    },
    {
     "data": {
      "image/png": "[encoded data removed]",
      "text/plain": [
       "<Figure size 432x288 with 1 Axes>"
      ]
     },
     "metadata": {
      "needs_background": "light"
     },
     "output_type": "display_data"
    }
   ],
   "source": [
    "corr_freq_custo_jovem = jovens.FREQ.corr(jovens.CUSTO)\n",
    "print(corr_freq_custo_jovem)\n",
    "corr_freq_custo_idoso = idosos.FREQ.corr(idosos.CUSTO)\n",
    "print(corr_freq_custo_idoso)\n",
    "plt.scatter(jovens.FREQ, jovens.CUSTO, color='red')\n",
    "plt.scatter(idosos.FREQ, idosos.CUSTO, color='blue')\n",
    "plt.show()"
   ]
  },
  {
   "cell_type": "markdown",
   "metadata": {},
   "source": [
    "A informação é válida pois a correlação entre frequência e custo em idosos é maior do que a frequência e custo em jovens"
   ]
  },
  {
   "cell_type": "markdown",
   "metadata": {},
   "source": [
    "<div id=\"p3b\"></div>\n",
    "\n",
    "**b)** Considere a seguinte afirmação:\n",
    "\n",
    " > \"Considerando apenas os jovens que geram custo de sinistro (custo maior do que zero), a minoria desse perfil de segurados apresentam custos de sinistro acima do seu custo médio, em mil reais, decorrente da assimetria a esquerda\".\n",
    "\n",
    "Faça a **construção de um gráfico adequado** e também do **cálculo de medidas de posição adequadas**, use-**os** para validar ou refutar a afirmação acima."
   ]
  },
  {
   "cell_type": "markdown",
   "metadata": {},
   "source": [
    "**Após suas análises, sinalize abaixo com X na sua escolha:** \n",
    "  * (..) Afirmação é válida após análises feitas a seguir\n",
    "  * (X ) Afirmação **NÃO** é válida após  análises feitas a seguir"
   ]
  },
  {
   "cell_type": "markdown",
   "metadata": {},
   "source": [
    "**A seguir, faça suas análises adequadas conforme solicitado e JUSTIFIQUE sua decisão quanto a validade ou não da afirmação:**"
   ]
  },
  {
   "cell_type": "code",
   "execution_count": 17,
   "metadata": {},
   "outputs": [
    {
     "name": "stdout",
     "output_type": "stream",
     "text": [
      "25.572608430753462\n"
     ]
    },
    {
     "data": {
      "image/png": "[encoded data removed]",
      "text/plain": [
       "<Figure size 432x288 with 1 Axes>"
      ]
     },
     "metadata": {
      "needs_background": "light"
     },
     "output_type": "display_data"
    }
   ],
   "source": [
    "filtra_custo = df.CUSTO > 0\n",
    "sinistro = jovens.loc[filtra_custo,:]\n",
    "media_sinistro = sinistro['CUSTO'].mean()\n",
    "print(media_sinistro)\n",
    "plt.subplot(221)\n",
    "plt.hist(sinistro.CUSTO,color = 'darkcyan', edgecolor = 'white', density = True, linewidth = 1)\n",
    "plt.title(\"Custo\")\n",
    "plt.ylabel(\"Densidade\")\n",
    "plt.show()"
   ]
  },
  {
   "cell_type": "markdown",
   "metadata": {},
   "source": [
    "O gráfico possui uma assimetria a esquerda, ele tem baixa densidade de valores abaixo da média e alta densidade de valores acima da média, o que implica que a afirmação está incorreta."
   ]
  },
  {
   "cell_type": "markdown",
   "metadata": {},
   "source": [
    "[Volta ao Índice](#indice)"
   ]
  },
  {
   "cell_type": "markdown",
   "metadata": {},
   "source": [
    "<br>\n",
    "\n",
    "### IMPORTANTE:\n",
    " * A base de dados **não** deve ser utilizada na Pergunta [4](#p4)."
   ]
  },
  {
   "cell_type": "markdown",
   "metadata": {},
   "source": [
    "___\n",
    "<div id=\"p4\"></div>\n",
    "\n",
    "### PERGUNTA 4  (2,00 pontos)\n",
    "\n",
    "Assuma que a taxa do número de sinistros (vezes em que a seguradora é acionada pelo segurado) por danos materiais a terceiros seja igual a  $0,35$ por ano.\n",
    "Ainda, assuma que a distribuição Poisson seja adequada para modelar essa variável discreta e que o custo da seguradora para reparo aos danos seja de: 8 mil reais caso o segurado apresente apenas 1 sinistro no ano; 21 mil reais caso o segurado apresente 2 sinistros no ano; e 40 mil reais caso apresente pelo menos 3 sinistros no ano.\n",
    "\n",
    "RESPONDA:"
   ]
  },
  {
   "cell_type": "markdown",
   "metadata": {},
   "source": [
    "<div id=\"p4a\"></div>\n",
    "\n",
    "**a)** Seguindo a proposta apresentada acima, calcule o custo esperado por segurado em um ano e o respectivo desvio padrão. Ainda, deixe claro qual a unidade de medida dos valores calculados.\n"
   ]
  },
  {
   "cell_type": "code",
   "execution_count": 18,
   "metadata": {},
   "outputs": [
    {
     "name": "stdout",
     "output_type": "stream",
     "text": [
      "3.0998890419917187\n"
     ]
    }
   ],
   "source": [
    "mu = 0.35\n",
    "e= 0*stats.poisson.pmf(0,mu) + 8*stats.poisson.pmf(1,mu) + 21*stats.poisson.pmf(2,mu) + 40*(1-stats.poisson.cdf(2,mu))\n",
    "print(e)"
   ]
  },
  {
   "cell_type": "code",
   "execution_count": 19,
   "metadata": {},
   "outputs": [
    {
     "name": "stdout",
     "output_type": "stream",
     "text": [
      "5.833052435526232\n"
     ]
    }
   ],
   "source": [
    "var = ((0-e)**2)*stats.poisson.pmf(0,mu) + ((8-e)**2)*stats.poisson.pmf(1,mu) + ((21-e)**2)*stats.poisson.pmf(2,mu) + ((40-e)**2)*(1-stats.poisson.cdf(2,mu))\n",
    "print(var**0.5) # desvio padrão\n",
    "                                                                                                                                "
   ]
  },
  {
   "cell_type": "markdown",
   "metadata": {},
   "source": [
    "<div id=\"p4b\"></div>\n",
    "\n",
    "**b)** Considere que para o próximo ano, o custo receba um adicional de 1 mil reais e, em cima desse novo valor (ou seja, após somar 1) ainda haja um aumento de 5%. Nesse caso, calcule o valor esperado desse novo custo e o respectivo desvio padrão.\n"
   ]
  },
  {
   "cell_type": "code",
   "execution_count": 20,
   "metadata": {},
   "outputs": [
    {
     "name": "stdout",
     "output_type": "stream",
     "text": [
      "4.304883494091305\n"
     ]
    }
   ],
   "source": [
    "novo_e = (e + 1)*1.05\n",
    "print(novo_e)"
   ]
  },
  {
   "cell_type": "code",
   "execution_count": 21,
   "metadata": {},
   "outputs": [
    {
     "name": "stdout",
     "output_type": "stream",
     "text": [
      "6.1247050573025446\n"
     ]
    }
   ],
   "source": [
    "var2 = (var*((1.05)**2))\n",
    "print(var2**0.5)\n"
   ]
  },
  {
   "cell_type": "markdown",
   "metadata": {},
   "source": [
    "[Volta ao Índice](#indice)"
   ]
  }
 ],
 "metadata": {
  "kernelspec": {
   "display_name": "Python 3.9.12 ('base')",
   "language": "python",
   "name": "python3"
  },
  "language_info": {
   "codemirror_mode": {
    "name": "ipython",
    "version": 3
   },
   "file_extension": ".py",
   "mimetype": "text/x-python",
   "name": "python",
   "nbconvert_exporter": "python",
   "pygments_lexer": "ipython3",
   "version": "3.9.12"
  },
  "vscode": {
   "interpreter": {
    "hash": "8dcc3e1345babda1179f6fdd0aab54adaf420724489c0d41458765ebeec1d2f0"
   }
  }
 },
 "nbformat": 4,
 "nbformat_minor": 4
}
