{
 "cells": [
  {
   "cell_type": "markdown",
   "metadata": {},
   "source": [
    "# A2 - Avaliação de Ciência dos dados \n",
    "\n",
    "## 2022 - 2o. semestre \n",
    "\n",
    "___\n"
   ]
  },
  {
   "cell_type": "markdown",
   "metadata": {},
   "source": [
    "# NOME: Raphael Cavalcanti Banov"
   ]
  },
  {
   "cell_type": "markdown",
   "metadata": {},
   "source": [
    "___\n",
    "## Instruções\n",
    "\n",
    "**Leia atentamente as instruções desta avaliação. Essas devem ser seguidas rigorosamente!**\n",
    "\n",
    "**Prezado(a) Aluno(a),**\n",
    "\n",
    "Dia da prova **dia 04/10** das 10h às 13h.\n",
    "\n",
    "Esta avaliação terá as seguintes etapas:\n",
    "\n",
    "**10h00 às 10h10**\n",
    "       \n",
    " * **(10 minutos) - PROCTORIO:** Entre no Blackboard e inicie o teste em `Conteúdos/Avaliações/Avaliação Intermediária/AI (Proctorio e Arquivos)`. Caso não ative esse teste em até 10 minutos do início da prova (ou seja, até às 10h10), não terá mais direito de entregar essa prova, obtendo falta na mesma.\n",
    "\n",
    "\n",
    "**10h10 às 12h10**  \n",
    "\n",
    " * **(120 minutos) - Desenvolvimento da prova:** Concentre-se em resolver o notebook.\n",
    " * ATENÇÃO: administre esse tempo da maneira que julgar mais adequada para você. **NÃO utilize o cronômetro do Proctorio como referência, mas sim o tempo 120 minutos de prova para realização da prova.**\n",
    "\n",
    "\n",
    "**12h10 às 12h20**  \n",
    " * **(10 minutos) - Entrega via Blackboard - Notebook:** O arquivo `.ipynb` deve ser entregue em `Conteúdos/Avaliações/Avaliação Intermediária/Entrega da prova`. \n",
    " * ATENÇÃO: **finalize o proctorio APENAS após anexar a avaliação no Blackboard.**\n",
    "\n",
    "\n",
    "<br>\n",
    "\n",
    "Leia atentamente as instruções a seguir e as questões da prova antes de começar a resolvê-la."
   ]
  },
  {
   "cell_type": "markdown",
   "metadata": {},
   "source": [
    "#### Avisos GERAIS: \n",
    "\n",
    "1. Identifique-se no cabeçalho deste arquivo. Essa prova é INDIVIDUAL.\n",
    "1. Você terá 120 minutos a partir do início oficial da prova para concluir esta avaliação, administre bem o seu tempo. Leia atentamente as instruções a seguir e as questões da prova antes de começar a resolvê-la. \n",
    "\n",
    "1. Esta avaliação:\n",
    "  * **PERMITE consulta de material do Blackboard e material on-line (usar navegador para pesquisas no Google, por exemplo)**. \n",
    "  * **NÃO PERMITE consulta de caderno ou qualquer outro material físico.**\n",
    "  * **NÃO PERMITE consulta a colegas (presencial ou remotamente), ou seja, não é permitido ter alguém ao seu lado assim como não é permitido conversar pelo WhatsApp, enviar e-mail ou qualquer outro formato em que converse com outra pessoa**. \n",
    "  * **PERMITE UTILIZAR APENAS UM COMPUTADOR NO QUAL ESTARÁ REALIZANDO A PROVA.**\n",
    "  * **NÃO PERMITE utilizar CELULAR, TABLET, SEGUNDO COMPUTADOR (ou NOTEBOOK) ou qualquer outro aparelho eletrônico no momento da prova.**\n",
    "  * **O desrespeito as essas regras constituirá violação ao Código de Ética e de Conduta e acarretará sanções nele previstas. Faça o seu trabalho de maneira ética!** \n",
    "\n",
    "1. Sua prova utilizará o sistema de Proctoring.  Para instalar a extensão, acesse o site https://getproctorio.com/ pelo Google Chrome e siga os passos indicados. Caso tenha dúvidas ou dificuldades, avise seu professor pelo chat e entre em contato com o Help Desk por meio de abertura de chamado ou pelo telefone (11) 4504-2550.\n",
    "Para realizar a prova será necessário:\n",
    "  *\tUm desktop ou um notebook com qualquer sistema operacional (dispositivos móveis não serão aceitos)\n",
    "  *\tNavegador Google Chrome (o sistema funciona somente nele)\n",
    "  *\tExtensão da plataforma instalada (sem ela o sistema não funcionará)\n",
    "\n",
    "1. **É proibido o uso de fones de ouvido durante toda a prova. Não leia as questões em voz alta. Não ouvir música.**\n",
    "1. **ENTREGA DO ARQUIVO**: Antes de sair da prova, garanta que entregou a prova no link indicado. Verifique se o arquivo das questões resolvidas teve seu upload concluído e que fechou o teste ao final. Você é o responsável pela entrega adequada de todas as questões de sua prova. Avaliações entregues fora do prazo não serão aceitas para correção.\n",
    "1. Caso precise se ausentar da prova para ir ao banheiro, comunique o(a) professor(a). Lembre-se de ser rápido e retornar prontamente à prova."
   ]
  },
  {
   "cell_type": "markdown",
   "metadata": {},
   "source": [
    "#### Avisos sobre desenvolvimento da prova:\n",
    "\n",
    "1. Esta Avaliação consiste em responder um arquivo Jupyter que será anexado ao Blackboard ao final da prova.\n",
    "1. Leia atentamente as **Precauções de segurança** abaixo para evitar ter sua prova anulada.\n",
    "1. Você não pode compartilhar material com seus colegas durante a prova.\n",
    "1. Em caso de dúvida sobre alguma questão desta avaliação, redija um texto em uma nova célula deste Jupyter notebook explicitando-a para que o professor avalie a pertinência durante a correção.  \n",
    "1. Leia atentamente cada questão e responda o que for pedido. Erros conceituais serão penalizados, mesmo que o conceito não se relacione com o que foi pedido na questão.\n",
    "1. Caso em algum item você necessite do resultado de um item anterior que você não conseguiu fazer, admita um valor razoável para esse resultado e faça o item normalmente. Indique na questão, caso isso aconteça.\n",
    "1. Todos os resultados devem ser justificados. Números que apareçam sem uma explicação de como foram encontrados serão ignorados na correção.\n",
    "1. **A qualidade do código na resolução em cada item também será levada em consideração, ou seja, códigos complicados para soluções que podem ser simples serão penalizados.**\n",
    "1. Esta avaliação requer **entrega via Blackboard**. **Não serão consideradas entregas por outros meios** (ex: e-mail, MS Teams, etc.)."
   ]
  },
  {
   "cell_type": "markdown",
   "metadata": {},
   "source": [
    "#### Precauções de segurança:\n",
    "\n",
    "1.\tTodas as precauções abaixo podem ser resumidas da seguinte forma: consulte o material que quiser desde que não seja nenhuma pessoa ou material físico. E não compartilhe informações com ninguém durante a prova. \n",
    "2.\tVocê não pode enviar nenhum tipo de mensagem durante a prova para qualquer pessoa dentro ou fora dela, com exceção do(a) professor(a). Por exemplo: e-mail, Skype, mensagens do Facebook, mensagens do WhatsApp, mensagens via Twitter, etc\n",
    "3.\tVocê não pode compartilhar nenhum tipo de informação em nenhum site, incluindo Pastebin, Codeshare, wikis, etc\n",
    "4.\tVocê não pode perguntar questões da prova no StackOverflow, StackExchange, MathExchange, etc. \n",
    "5.\tVocê pode procurar/tirar dúvida no Google.\n",
    "6.\tVocê pode consultar qualquer arquivo no seu computador.\n",
    "7.  Você pode usar folha de sulfite da sala solicitando ao professor. Escreva seu nome na mesma com letras grandes.\n",
    "8.\tQualquer transgressão das normas acima pode zerar a nota da prova e implicar em infração ao código de ética do Insper."
   ]
  },
  {
   "cell_type": "markdown",
   "metadata": {},
   "source": [
    "___\n",
    "<div id=\"indice\"></div>\n",
    "\n",
    "## Índice\n",
    "\n",
    "- [FIGURINHAS DA COPA 2022 - PERGUNTA 1](#p1) **[3,00 pontos]**\n",
    "    - [item (a)](#p1a)\n",
    "    - [item (b)](#p1b)\n",
    "    - [item (c)](#p1c)\n",
    "\n",
    "<br>\n",
    "\n",
    "- [TROCA DE FIGURINHAS - PERGUNTA 2](#p2) **[2,25 pontos]**\n",
    "    - [item (a)](#p2a)\n",
    "    - [item (b)](#p2b)\n",
    "    \n",
    "<br>\n",
    "    \n",
    "- [MANGA PERFEITA - PERGUNTA 3](#p3) **[3,25 pontos]**\n",
    "    - [item (a)](#p3a)\n",
    "    - [item (b)](#p3b)\n",
    "    - [item (c)](#p3c)\n",
    "    - [item (d)](#p3d)\n",
    "    - [item (e)](#p3e)\n",
    "    \n",
    "<br>\n",
    "\n",
    "- [MINERAIS - PERGUNTA 4](#p4) **[1,50 pontos]**\n",
    "    - [item (a)](#p4a)\n",
    "    - [item (b)](#p4b)\n",
    "\n"
   ]
  },
  {
   "cell_type": "code",
   "execution_count": 20,
   "metadata": {},
   "outputs": [],
   "source": [
    "# %matplotlib inline\n",
    "import math\n",
    "import os\n",
    "\n",
    "import matplotlib.pyplot as plt\n",
    "import numpy as np\n",
    "from numpy import arange\n",
    "import pandas as pd\n",
    "from scipy import stats\n",
    "\n",
    "from IPython.display import display  # Para ter melhor print."
   ]
  },
  {
   "cell_type": "markdown",
   "metadata": {},
   "source": [
    "___\n",
    "<div id=\"p1\"></div>\n",
    "\n",
    "## Figurinhas da Copa 2022\n",
    "\n",
    "<img src=\"https://cdados.s3.us-east-2.amazonaws.com/album_figurinhas.jpg\">\n",
    "Fonte: extraído da internet\n",
    "\n",
    "Se a imagem não carregar (não é importante para fazer a prova), acesse em https://cdados.s3.us-east-2.amazonaws.com/album_figurinhas.jpg"
   ]
  },
  {
   "cell_type": "markdown",
   "metadata": {},
   "source": [
    "### PERGUNTA 1  (3,00 pontos)\n",
    "\n",
    "<br> Considere que a variável **X** represente o número de figurinhas que uma pessoa qualquer consegue trocar com outras semanalmente. \n",
    "<br> Ainda, assuma que a distribuição de Poisson seja adequada para modelar essa variável aleatória com média igual a **15 figurinhas que uma pessoa troca por semana**, ou seja, **X ~ Poisson(15)**. \n",
    "\n",
    "Responda:"
   ]
  },
  {
   "cell_type": "markdown",
   "metadata": {},
   "source": [
    "<div id=\"p1a\"></div>\n",
    "\n",
    "**a)(1,00 ponto)** \n",
    "<br> Uma semana excepcional ocorre quando uma pessoa consegue trocar pelo menos 25 figurinhas na semana. \n",
    "<br> Se uma pessoa tiver uma semana excepcional, qual a probabilidade desta trocar menos do que 30 figurinhas nessa tal semana?"
   ]
  },
  {
   "cell_type": "code",
   "execution_count": 76,
   "metadata": {},
   "outputs": [
    {
     "name": "stdout",
     "output_type": "stream",
     "text": [
      "0.9323433830021025\n"
     ]
    }
   ],
   "source": [
    "mu = 15\n",
    "\n",
    "num = stats.poisson.cdf(29, mu) - stats.poisson.cdf(25, mu)\n",
    "den = 1-stats.poisson.cdf(25, mu)\n",
    "\n",
    "\n",
    "print(num/den)"
   ]
  },
  {
   "cell_type": "code",
   "execution_count": null,
   "metadata": {},
   "outputs": [],
   "source": []
  },
  {
   "cell_type": "markdown",
   "metadata": {},
   "source": [
    "<div id=\"p1b\"></div>\n",
    "\n",
    "**b)(1,00 ponto)** \n",
    "<br> Entre cinco pessoas escolhidas aleatoriamente, qual a probabilidade de exatamente duas pessoas terem uma semana excepcional de troca figurinhas?\n",
    "\n",
    "**Atenção: Defina a variável de interesse e sua respectiva distribuição de probabilidades para o cálculo da probabilidade desta questão.**"
   ]
  },
  {
   "cell_type": "code",
   "execution_count": 90,
   "metadata": {},
   "outputs": [
    {
     "data": {
      "text/plain": [
       "0.0012052361239335866"
      ]
     },
     "execution_count": 90,
     "metadata": {},
     "output_type": "execute_result"
    }
   ],
   "source": [
    "prob_nao_excep = stats.poisson.cdf(24, mu)\n",
    "prob_excep = 1 - prob_nao_excep\n",
    "\n",
    "total_pessoas = 5\n",
    "pessoas_excep = 2\n",
    "stats.binom.pmf(2, 5, prob_excep)\n",
    "\n"
   ]
  },
  {
   "cell_type": "code",
   "execution_count": null,
   "metadata": {},
   "outputs": [],
   "source": []
  },
  {
   "cell_type": "markdown",
   "metadata": {},
   "source": [
    "<div id=\"p1c\"></div>\n",
    "\n",
    "**c)(1,00 ponto)** \n",
    "<br> O arquivo `figurinhas.xlsx` traz a coluna `Trocadas` contendo o número de figurinhas que cada pessoa conseguiu trocar em uma semana qualquer.\n",
    "<br> Considerando essa coluna `Trocadas` do *dataframe* `figurinhas.xlsx`, discuta se você acha razoável ou não modelar essa variável por uma distribuição de Poisson com média igual a 15."
   ]
  },
  {
   "cell_type": "code",
   "execution_count": 91,
   "metadata": {
    "scrolled": true
   },
   "outputs": [
    {
     "name": "stdout",
     "output_type": "stream",
     "text": [
      "Esperamos trabalhar no diretório\n",
      "c:\\Users\\rapha\\OneDrive - Insper - Institudo de Ensino e Pesquisa\\Área de Trabalho\\Faculdade\\2 semestre\\cdados\\provas anteriores\\PI20222\n"
     ]
    }
   ],
   "source": [
    "print(\"Esperamos trabalhar no diretório\")\n",
    "print(os.getcwd())"
   ]
  },
  {
   "cell_type": "code",
   "execution_count": 92,
   "metadata": {
    "scrolled": true
   },
   "outputs": [
    {
     "name": "stdout",
     "output_type": "stream",
     "text": [
      "Parece que o arquivo figurinhas.xlsx está na mesma pasta do notebook da avaliação, yay!\n",
      "\n"
     ]
    }
   ],
   "source": [
    "filename = 'figurinhas.xlsx'\n",
    "if filename in os.listdir():\n",
    "    print(f'Parece que o arquivo {filename} está na mesma pasta do notebook da avaliação, yay!\\n')\n",
    "    \n",
    "else:\n",
    "    print(f'Não encontrei o arquivo {filename}.\\n'\n",
    "          f'O notebook e os arquivos de dados desta avaliação devem ser salvos dentro da mesma pasta no seu computador.\\n')"
   ]
  },
  {
   "cell_type": "code",
   "execution_count": 93,
   "metadata": {
    "scrolled": true
   },
   "outputs": [
    {
     "data": {
      "text/html": [
       "<div>\n",
       "<style scoped>\n",
       "    .dataframe tbody tr th:only-of-type {\n",
       "        vertical-align: middle;\n",
       "    }\n",
       "\n",
       "    .dataframe tbody tr th {\n",
       "        vertical-align: top;\n",
       "    }\n",
       "\n",
       "    .dataframe thead th {\n",
       "        text-align: right;\n",
       "    }\n",
       "</style>\n",
       "<table border=\"1\" class=\"dataframe\">\n",
       "  <thead>\n",
       "    <tr style=\"text-align: right;\">\n",
       "      <th></th>\n",
       "      <th>Trocadas</th>\n",
       "    </tr>\n",
       "  </thead>\n",
       "  <tbody>\n",
       "    <tr>\n",
       "      <th>0</th>\n",
       "      <td>14</td>\n",
       "    </tr>\n",
       "    <tr>\n",
       "      <th>1</th>\n",
       "      <td>18</td>\n",
       "    </tr>\n",
       "  </tbody>\n",
       "</table>\n",
       "</div>"
      ],
      "text/plain": [
       "   Trocadas\n",
       "0        14\n",
       "1        18"
      ]
     },
     "execution_count": 93,
     "metadata": {},
     "output_type": "execute_result"
    }
   ],
   "source": [
    "figurinhas = pd.read_excel('figurinhas.xlsx')\n",
    "figurinhas.head(2)"
   ]
  },
  {
   "cell_type": "code",
   "execution_count": 94,
   "metadata": {},
   "outputs": [
    {
     "data": {
      "text/html": [
       "<div>\n",
       "<style scoped>\n",
       "    .dataframe tbody tr th:only-of-type {\n",
       "        vertical-align: middle;\n",
       "    }\n",
       "\n",
       "    .dataframe tbody tr th {\n",
       "        vertical-align: top;\n",
       "    }\n",
       "\n",
       "    .dataframe thead th {\n",
       "        text-align: right;\n",
       "    }\n",
       "</style>\n",
       "<table border=\"1\" class=\"dataframe\">\n",
       "  <thead>\n",
       "    <tr style=\"text-align: right;\">\n",
       "      <th></th>\n",
       "      <th>Trocadas</th>\n",
       "    </tr>\n",
       "  </thead>\n",
       "  <tbody>\n",
       "    <tr>\n",
       "      <th>count</th>\n",
       "      <td>1000.000000</td>\n",
       "    </tr>\n",
       "    <tr>\n",
       "      <th>mean</th>\n",
       "      <td>15.000000</td>\n",
       "    </tr>\n",
       "    <tr>\n",
       "      <th>std</th>\n",
       "      <td>3.256779</td>\n",
       "    </tr>\n",
       "    <tr>\n",
       "      <th>min</th>\n",
       "      <td>2.000000</td>\n",
       "    </tr>\n",
       "    <tr>\n",
       "      <th>25%</th>\n",
       "      <td>13.000000</td>\n",
       "    </tr>\n",
       "    <tr>\n",
       "      <th>50%</th>\n",
       "      <td>15.000000</td>\n",
       "    </tr>\n",
       "    <tr>\n",
       "      <th>75%</th>\n",
       "      <td>17.000000</td>\n",
       "    </tr>\n",
       "    <tr>\n",
       "      <th>max</th>\n",
       "      <td>27.000000</td>\n",
       "    </tr>\n",
       "  </tbody>\n",
       "</table>\n",
       "</div>"
      ],
      "text/plain": [
       "          Trocadas\n",
       "count  1000.000000\n",
       "mean     15.000000\n",
       "std       3.256779\n",
       "min       2.000000\n",
       "25%      13.000000\n",
       "50%      15.000000\n",
       "75%      17.000000\n",
       "max      27.000000"
      ]
     },
     "execution_count": 94,
     "metadata": {},
     "output_type": "execute_result"
    }
   ],
   "source": [
    "figurinhas.describe()"
   ]
  },
  {
   "cell_type": "markdown",
   "metadata": {},
   "source": [
    "### Resposta:\n",
    "##### Sim, dado que, ao analizar o dataframe, vemos que a média dos dados obtidos nessa amostra determinam uma média de 15 figurinhas trocadas por semana"
   ]
  },
  {
   "cell_type": "markdown",
   "metadata": {},
   "source": [
    "[Volta ao Índice](#indice)"
   ]
  },
  {
   "cell_type": "markdown",
   "metadata": {},
   "source": [
    "___\n",
    "<div id=\"p2\"></div>\n",
    "\n",
    "## Troca de figurinhas\n",
    "\n",
    "<img src=\"https://cdados.s3.us-east-2.amazonaws.com/troca_figurinhas.jpg\">\n",
    "Fonte: extraído da internet\n",
    "\n",
    "Se a imagem não carregar (não é importante para fazer a prova), acesse em https://cdados.s3.us-east-2.amazonaws.com/troca_figurinhas.jpg"
   ]
  },
  {
   "cell_type": "markdown",
   "metadata": {},
   "source": [
    "### PERGUNTA 2 (2,25 pontos)\n",
    "\n",
    "Nesta questão, considere que sejam analisadas duas variáveis qualitativas em cada pessoa que faz uma tentativa para trocar figurinhas da Copa 2022. São elas:\n",
    " * Ponto de troca: se pessoa usa ou não ponto de trocas de figurinhas na tentativa; e\n",
    " * Conseguiu trocar: se pessoa consegue ou não trocar figurinhas na tentativa em questão.\n",
    "\n",
    "Um modelo probabilístico assume que a probabilidade de que uma pessoa conseguir trocar figurinhas da Copa 2022 em uma tentativa qualquer é de 30%. \n",
    "<br> Se isso ocorrer, a probabilidade de que essa tentativa tenha sido em pontos de troca é de 75%. \n",
    "<br> Já se uma pessoa não conseguir trocar figurinhas da Copa 2022 em uma tentativa qualquer, então a probabilidade de que essa tentativa tenha sido em pontos de troca cai para 15%. \n",
    "\n",
    "Responda:"
   ]
  },
  {
   "cell_type": "markdown",
   "metadata": {},
   "source": [
    "<div id=\"p2a\"></div>\n",
    "\n",
    "**a)(1,00 ponto)** \n",
    "<br> Considerando o **Teorema de Bayes**, calcule as seguintes probabilidades:\n",
    "<br> $\\quad$ a1)  Se uma pessoa for em pontos de troca, qual a probabilidade de que ela consiga trocar figurinhas da Copa 2022? \n",
    "<br> $\\quad$ a2)  Se uma pessoa for em pontos de troca, qual a probabilidade de que ela não consiga trocar figurinhas da Copa 2022? \n",
    "<br> $\\quad$ a3) Se uma pessoa não for em pontos de troca, qual a probabilidade de que ela consiga trocar figurinhas da Copa 2022? \n",
    "<br> $\\quad$ a4) Se uma pessoa não for em pontos de troca, qual a probabilidade de que ela não consiga trocar figurinhas da Copa 2022? \n"
   ]
  },
  {
   "cell_type": "code",
   "execution_count": null,
   "metadata": {},
   "outputs": [],
   "source": [
    "# trocou?\n",
    "#   sim (30%)\n",
    "#       Trocou em ponto?\n",
    "#           Sim (75%)\n",
    "#           Nao (15%)\n",
    "#   nao (70%)\n",
    "#       Ao não conseguir, estava em ponto?\n",
    "#           Sim (15%)\n",
    "#           Não (75%)\n"
   ]
  },
  {
   "cell_type": "code",
   "execution_count": 102,
   "metadata": {},
   "outputs": [],
   "source": [
    "#a1)\n",
    "P_trocou_em_ponto = 0.3*0.75\n",
    "#a2)\n",
    "P_nao_trocou_em_ponto= 0.7*0.15\n",
    "#a3)\n",
    "P_trocou_sem_ponto = 0.3*0.15\n",
    "#a4)\n",
    "P_nao_trocou_sem_ponto=0.7*0.75\n"
   ]
  },
  {
   "cell_type": "markdown",
   "metadata": {},
   "source": [
    "<div id=\"p2b\"></div>\n",
    "\n",
    "**b)(1,25 ponto)** \n",
    "<br> Considerando as probabilidades calculadas no item anterior, o intuito aqui é, condicionando ao fato que uma pessoa irá ou não a um ponto de trocas, fazer sua classificação rotulando-a por `SIM` predizendo que essa conseguirá trocar figurinhas da Copa 2022 ou `NÃO` predizendo que essa não conseguirá trocar figurinhas da Copa 2022.\n",
    "\n",
    "Faça cada etapa a seguir:\n",
    "  * [b1) Leitura do conjunto de dados `copa.xlsx`](#copa)\n",
    "  * [b2) Classificador de Bayes](#classificacao)\n",
    "  * [b3) Análise de sentimento](#sentimento)\n",
    "     "
   ]
  },
  {
   "cell_type": "markdown",
   "metadata": {},
   "source": [
    "<div id=\"copa\"></div>\n",
    "\n",
    "**b1) Leitura do conjunto de dados `copa.xlsx`**\n",
    "<br> A base de dados apresentada no arquivo `copa.xlsx` contém informação de 500 tentativas de troca de fgurinhas da Copa de 2022 para as quais foram mensuradas as seguintes informações:\n",
    " \n",
    " * `PontoDeTroca`: indica se a pessoa fez tentativa de trocar figurinhas em ponto de troca ou não.\n",
    "    - Não: se não foi em ponto de troca,\n",
    "    - Sim: se foi em ponto de troca.\n",
    " * `Trocou`: indica se pessoa conseguiu ou não trocar figurinhas em uma tentativa qualquer.\n",
    "    - Não: se não conseguiu trocar de figurinhas,\n",
    "    - Sim: se conseguiu trocar de figurinhas.\n"
   ]
  },
  {
   "cell_type": "code",
   "execution_count": 103,
   "metadata": {},
   "outputs": [
    {
     "name": "stdout",
     "output_type": "stream",
     "text": [
      "Esperamos trabalhar no diretório\n",
      "c:\\Users\\rapha\\OneDrive - Insper - Institudo de Ensino e Pesquisa\\Área de Trabalho\\Faculdade\\2 semestre\\cdados\\provas anteriores\\PI20222\n"
     ]
    }
   ],
   "source": [
    "print(\"Esperamos trabalhar no diretório\")\n",
    "print(os.getcwd())"
   ]
  },
  {
   "cell_type": "code",
   "execution_count": 104,
   "metadata": {},
   "outputs": [
    {
     "name": "stdout",
     "output_type": "stream",
     "text": [
      "Parece que o arquivo copa.xlsx está na mesma pasta do notebook da avaliação, yay!\n",
      "\n"
     ]
    }
   ],
   "source": [
    "filename = 'copa.xlsx'\n",
    "if filename in os.listdir():\n",
    "    print(f'Parece que o arquivo {filename} está na mesma pasta do notebook da avaliação, yay!\\n')\n",
    "    \n",
    "else:\n",
    "    print(f'Não encontrei o arquivo {filename}.\\n'\n",
    "          f'O notebook e os arquivos de dados desta avaliação devem ser salvos dentro da mesma pasta no seu computador.\\n')"
   ]
  },
  {
   "cell_type": "code",
   "execution_count": 105,
   "metadata": {},
   "outputs": [
    {
     "data": {
      "text/html": [
       "<div>\n",
       "<style scoped>\n",
       "    .dataframe tbody tr th:only-of-type {\n",
       "        vertical-align: middle;\n",
       "    }\n",
       "\n",
       "    .dataframe tbody tr th {\n",
       "        vertical-align: top;\n",
       "    }\n",
       "\n",
       "    .dataframe thead th {\n",
       "        text-align: right;\n",
       "    }\n",
       "</style>\n",
       "<table border=\"1\" class=\"dataframe\">\n",
       "  <thead>\n",
       "    <tr style=\"text-align: right;\">\n",
       "      <th></th>\n",
       "      <th>PontoDeTroca</th>\n",
       "      <th>Trocou</th>\n",
       "    </tr>\n",
       "  </thead>\n",
       "  <tbody>\n",
       "    <tr>\n",
       "      <th>0</th>\n",
       "      <td>Sim</td>\n",
       "      <td>Sim</td>\n",
       "    </tr>\n",
       "    <tr>\n",
       "      <th>1</th>\n",
       "      <td>Sim</td>\n",
       "      <td>Sim</td>\n",
       "    </tr>\n",
       "  </tbody>\n",
       "</table>\n",
       "</div>"
      ],
      "text/plain": [
       "  PontoDeTroca Trocou\n",
       "0          Sim    Sim\n",
       "1          Sim    Sim"
      ]
     },
     "execution_count": 105,
     "metadata": {},
     "output_type": "execute_result"
    }
   ],
   "source": [
    "copa = pd.read_excel('copa.xlsx')\n",
    "copa.head(2)"
   ]
  },
  {
   "cell_type": "markdown",
   "metadata": {},
   "source": [
    "<div id=\"classificacao\"></div>\n",
    "\n",
    "**b2) Classficador de Bayes**\n",
    "<br> Com seu classificador construído no item (a), use as probabilidades calculadas para classificar cada tentativa apresentada no *dataframe* `copa`. \n",
    "<br> Dado cada categoria da variável `PontoDeTroca`, classifique cada tentativa como `Não` quando não consegue trocar figurinhas` ou `Sim quando consegue trocar figurinhas.\n",
    "<br> No dataframe `copa`, guarde essas classificações em uma nova variável chamada `ClassByBot` e calcule as frequências relativas das categorias dessa nova variável."
   ]
  },
  {
   "cell_type": "code",
   "execution_count": null,
   "metadata": {},
   "outputs": [],
   "source": [
    "# ESCREVA SUA RESOLUÇÃO AQUI"
   ]
  },
  {
   "cell_type": "code",
   "execution_count": null,
   "metadata": {},
   "outputs": [],
   "source": []
  },
  {
   "cell_type": "markdown",
   "metadata": {},
   "source": [
    "<div id=\"sentimento\"></div>\n",
    "\n",
    "**b3) Análise de sentimento**\n",
    "<br> Faça uma análise de sentimento cruzando a variável `ClassByBot` com a real classificação `Trocou` utilizando a função `pd.crosstab`. \n",
    "<br> Calcule a acurácia e analise os resultados."
   ]
  },
  {
   "cell_type": "code",
   "execution_count": null,
   "metadata": {},
   "outputs": [],
   "source": [
    "# ESCREVA SUA RESOLUÇÃO AQUI"
   ]
  },
  {
   "cell_type": "code",
   "execution_count": null,
   "metadata": {},
   "outputs": [],
   "source": []
  },
  {
   "cell_type": "markdown",
   "metadata": {},
   "source": [
    "[Volta ao Índice](#indice)"
   ]
  },
  {
   "cell_type": "markdown",
   "metadata": {},
   "source": [
    "___\n",
    "<div id=\"p3\"></div>\n",
    "\n",
    "## Mangas Perfeitas\n",
    "\n",
    "<img src=\"https://cdados.s3.us-east-2.amazonaws.com/manga.jpg\">\n",
    "Fonte: extraído da internet\n",
    "\n",
    "Se a imagem não carregar (não é importante para fazer a prova), acesse em https://cdados.s3.us-east-2.amazonaws.com/manga.jpg"
   ]
  },
  {
   "cell_type": "markdown",
   "metadata": {},
   "source": [
    "### PERGUNTA 3 (3,25 pontos)\n",
    "\n",
    "Em certos países, os consumidores estão habituados a pagar preços consideravelmente elados por frutas de qualidade, as chamadas **\"frutas perfeitas\"**. Sabendo disso, é de interesse dos produtores selecionar frutas que atendem aos mais elevados padrões, aumentando seu lucro.\n",
    "\n",
    "Considere que **mangas perfeitas** são aquelas que atingem níveis mínimos de **peso** e níveis mínimos de **concentração de açúcares**. Se uma manga não atinge um ou não atinge ambos os critérios, então ela é considerada uma manga normal!\n",
    "\n",
    "Nas lavouras do Sr. João, é sabido que a probabilidade de uma manga qualquer ter peso mínimo para ser considerada uma manga perfeita é de $27\\%$ ($0.27$). Ainda, a probabilidade de uma manga qualquer ter concentração mínima de açúcares para ser considerada uma manga perfeita é de $13\\%$ ($0.13$). Além disso, ambos os eventos são independentes entre sí.\n",
    "\n",
    "Considere as lavouras do Sr. João e Responda:"
   ]
  },
  {
   "cell_type": "markdown",
   "metadata": {},
   "source": [
    "<div id=\"p3a\"></div>\n",
    "\n",
    "**a) (0,50 ponto)**\n",
    "<br>Qual a probabilidade de uma manga qualquer colhida de forma aleatória ser considerada uma manga perfeita?"
   ]
  },
  {
   "cell_type": "code",
   "execution_count": 13,
   "metadata": {},
   "outputs": [],
   "source": [
    "P_min_peso = 0.27\n",
    "P_min_acucar = 0.13\n",
    "P_min_peso_e_acucar = P_min_peso*P_min_acucar"
   ]
  },
  {
   "cell_type": "code",
   "execution_count": 14,
   "metadata": {},
   "outputs": [
    {
     "name": "stdout",
     "output_type": "stream",
     "text": [
      "A probabilidade de uma manga das lavouras do Sr. João cumprir os requisitos necessários é de 0.0351 (3.51%)\n"
     ]
    }
   ],
   "source": [
    "print(f'A probabilidade de uma manga das lavouras do Sr. João cumprir os requisitos necessários é de {P_min_peso_e_acucar:.4f} ({P_min_peso_e_acucar*100:.2f}%)')"
   ]
  },
  {
   "cell_type": "markdown",
   "metadata": {},
   "source": [
    "<div id=\"p3b\"></div>\n",
    "\n",
    "**b) (0,50 ponto)**\n",
    "<br> Considere que cada manga perfeita é vendida por $15$ (quinze Reais), enquanto que mangas normais são vendidas por $2$ (dois Reais). Qual o valor esperado e o desvio padrão do valor de venda de uma manga escolhida aleatoriamente?"
   ]
  },
  {
   "cell_type": "code",
   "execution_count": 44,
   "metadata": {},
   "outputs": [
    {
     "name": "stdout",
     "output_type": "stream",
     "text": [
      "0.98017201\n"
     ]
    }
   ],
   "source": [
    "# Sr. João tem:\n",
    "#   0.27 de ter uma manga com SOMENTE o peso minimo\n",
    "#   0.13 de ter uma manga com SOMENTE a concentração mínima\n",
    "#   0.04 de ter uma manga com AMBOS o peso e concentração mínima\n",
    "# logo:\n",
    "P_manga_sem_nada=1-(P_min_acucar+P_min_peso+P_min_peso_e_acucar)\n",
    "\n",
    "\n",
    "P_2reais = P_manga_sem_nada*P_min_peso*P_min_acucar\n",
    "\n",
    "P_15reais = 1-P_2reais\n",
    "\n",
    "\n",
    "print(f'{stats.binom.mean(1, P_15reais)}')\n"
   ]
  },
  {
   "cell_type": "code",
   "execution_count": 48,
   "metadata": {},
   "outputs": [
    {
     "data": {
      "text/plain": [
       "0.13940889789593747"
      ]
     },
     "execution_count": 48,
     "metadata": {},
     "output_type": "execute_result"
    }
   ],
   "source": [
    "stats.binom.std(1, P_15reais)"
   ]
  },
  {
   "cell_type": "markdown",
   "metadata": {},
   "source": [
    "<div id=\"p3c\"></div>\n",
    "\n",
    "**c) (0,75 ponto)**\n",
    "<br> O Sr. João também vende mangas em caixas de seis mangas. Como as mangas são escolhidas de forma aleatória,  as caixas podem ter mais mangas normais ou mais mangas perfeitas, então o valor da caixa é variável. Construa a distribuição de probabilidades do preço destas caixas, exibindo as probabilidades com doze casas decimais."
   ]
  },
  {
   "cell_type": "code",
   "execution_count": 129,
   "metadata": {},
   "outputs": [
    {
     "data": {
      "text/plain": [
       "[1, 2, 3, 4, 5, 6]"
      ]
     },
     "execution_count": 129,
     "metadata": {},
     "output_type": "execute_result"
    }
   ],
   "source": [
    "\n"
   ]
  },
  {
   "cell_type": "code",
   "execution_count": null,
   "metadata": {},
   "outputs": [],
   "source": []
  },
  {
   "cell_type": "markdown",
   "metadata": {},
   "source": [
    "<div id=\"p3d\"></div>\n",
    "\n",
    "**d) (0,75 ponto)**\n",
    "<br> Um cientista está realizando uma pesquisa com mangas e irá precisar de várias caixas de seis mangas do Sr. João (as mesmas caixas do item c)! Ao invés de pagar um preço variável pelas caixas (uma vez que cada caixa pode ter mais ou menos mangas perfeitas), o cientista propôs pagar um preço fixo de $16.00$ (dezesseis reais) por cada caixa.\n",
    "\n",
    "A proposta deve ou não ser aceita pelo Sr. João? Utilize recursos analíticos e justifique com um texto sua resposta."
   ]
  },
  {
   "cell_type": "code",
   "execution_count": null,
   "metadata": {},
   "outputs": [],
   "source": [
    "# ESCREVA SUA RESOLUÇÃO AQUI"
   ]
  },
  {
   "cell_type": "code",
   "execution_count": null,
   "metadata": {},
   "outputs": [],
   "source": []
  },
  {
   "cell_type": "markdown",
   "metadata": {},
   "source": [
    "<div id=\"p3e\"></div>\n",
    "\n",
    "**e) (0,75 ponto)**\n",
    "<br> Considere que o Sr. João negou a proposta do cientista (item d), preferindo vender as mangas conforme a quantidade de mangas perfeitas ou normais na caixa. Ainda, para fechar contrato, demandou que cada caixa seja vendida imediatamente com um acréscimo fixo de $2.00$ (dois reais) e após um ano de contrato, o valor total das caixas de manga (incluindo o acréscimo fixo inicial) seja acrescido em $12\\%$ (doze porcento). Qual será o valor esperado e o desvio padrão do preço de uma caixa com seis mangas após um ano de contrato?"
   ]
  },
  {
   "cell_type": "code",
   "execution_count": null,
   "metadata": {},
   "outputs": [],
   "source": [
    "# ESCREVA SUA RESOLUÇÃO AQUI"
   ]
  },
  {
   "cell_type": "code",
   "execution_count": null,
   "metadata": {},
   "outputs": [],
   "source": []
  },
  {
   "cell_type": "markdown",
   "metadata": {},
   "source": [
    "[Volta ao Índice](#indice)"
   ]
  },
  {
   "cell_type": "markdown",
   "metadata": {},
   "source": [
    "___\n",
    "<div id=\"p4\"></div>\n",
    "\n",
    "## Minerais\n",
    "\n",
    "<img src=\"https://cdados.s3.us-east-2.amazonaws.com/minerais.jpg\">\n",
    "Fonte: extraído da internet\n",
    "\n",
    "Se a imagem não carregar (não é importante para fazer a prova), acesse em https://cdados.s3.us-east-2.amazonaws.com/minerais.jpg"
   ]
  },
  {
   "cell_type": "markdown",
   "metadata": {},
   "source": [
    "### PERGUNTA 4 (1,50 pontos)\n",
    "\n",
    "Dentre os fatores que podem influenciar na produtividade de uma lavoura, podemos elencar a **qualidade do solo**. \n",
    "\n",
    "Buscando entender a associação entre a produtividade e a concentração de alguns minerais no solo, foram realizadas análises de diversas propriedades diferentes. O resultado está na base de dados `minerais.xlsx`, onde as três primeiras colunas representam a medida de concentração de três minerais diferentes. Já a última coluna representa a produtividade por hectare (medida agrária de área).\n",
    "\n",
    "Vamos primeiro abrir a base de dados:"
   ]
  },
  {
   "cell_type": "code",
   "execution_count": 106,
   "metadata": {},
   "outputs": [
    {
     "name": "stdout",
     "output_type": "stream",
     "text": [
      "Esperamos trabalhar no diretório\n",
      "c:\\Users\\rapha\\OneDrive - Insper - Institudo de Ensino e Pesquisa\\Área de Trabalho\\Faculdade\\2 semestre\\cdados\\provas anteriores\\PI20222\n"
     ]
    }
   ],
   "source": [
    "print(\"Esperamos trabalhar no diretório\")\n",
    "print(os.getcwd())"
   ]
  },
  {
   "cell_type": "code",
   "execution_count": 107,
   "metadata": {},
   "outputs": [
    {
     "name": "stdout",
     "output_type": "stream",
     "text": [
      "Parece que o arquivo minerais.xlsx está na mesma pasta do notebook da avaliação, yay!\n",
      "\n"
     ]
    }
   ],
   "source": [
    "filename = 'minerais.xlsx'\n",
    "if filename in os.listdir():\n",
    "    print(f'Parece que o arquivo {filename} está na mesma pasta do notebook da avaliação, yay!\\n')\n",
    "    \n",
    "else:\n",
    "    print(f'Não encontrei o arquivo {filename}.\\n'\n",
    "          f'O notebook e os arquivos de dados desta avaliação devem ser salvos dentro da mesma pasta no seu computador.\\n')"
   ]
  },
  {
   "cell_type": "code",
   "execution_count": 108,
   "metadata": {},
   "outputs": [
    {
     "data": {
      "text/html": [
       "<div>\n",
       "<style scoped>\n",
       "    .dataframe tbody tr th:only-of-type {\n",
       "        vertical-align: middle;\n",
       "    }\n",
       "\n",
       "    .dataframe tbody tr th {\n",
       "        vertical-align: top;\n",
       "    }\n",
       "\n",
       "    .dataframe thead th {\n",
       "        text-align: right;\n",
       "    }\n",
       "</style>\n",
       "<table border=\"1\" class=\"dataframe\">\n",
       "  <thead>\n",
       "    <tr style=\"text-align: right;\">\n",
       "      <th></th>\n",
       "      <th>Mineral1</th>\n",
       "      <th>Mineral2</th>\n",
       "      <th>Mineral3</th>\n",
       "      <th>Produtividade</th>\n",
       "    </tr>\n",
       "  </thead>\n",
       "  <tbody>\n",
       "    <tr>\n",
       "      <th>0</th>\n",
       "      <td>213.924374</td>\n",
       "      <td>103.202900</td>\n",
       "      <td>509.391897</td>\n",
       "      <td>48440.456182</td>\n",
       "    </tr>\n",
       "    <tr>\n",
       "      <th>1</th>\n",
       "      <td>205.796592</td>\n",
       "      <td>102.697831</td>\n",
       "      <td>491.696738</td>\n",
       "      <td>46789.202036</td>\n",
       "    </tr>\n",
       "  </tbody>\n",
       "</table>\n",
       "</div>"
      ],
      "text/plain": [
       "     Mineral1    Mineral2    Mineral3  Produtividade\n",
       "0  213.924374  103.202900  509.391897   48440.456182\n",
       "1  205.796592  102.697831  491.696738   46789.202036"
      ]
     },
     "execution_count": 108,
     "metadata": {},
     "output_type": "execute_result"
    }
   ],
   "source": [
    "minerais = pd.read_excel(filename)\n",
    "minerais.head(2)"
   ]
  },
  {
   "cell_type": "markdown",
   "metadata": {},
   "source": [
    "<div id=\"p4a\"></div>\n",
    "\n",
    "Então, responda:\n",
    "\n",
    "**a) (0,75 ponto)**\n",
    "<br>Construa uma análise, utilizando gráficos e medidas adequadas que auxiliem a entender a associação entre as concentração de minerais e produtividade."
   ]
  },
  {
   "cell_type": "code",
   "execution_count": 126,
   "metadata": {},
   "outputs": [
    {
     "data": {
      "text/html": [
       "<div>\n",
       "<style scoped>\n",
       "    .dataframe tbody tr th:only-of-type {\n",
       "        vertical-align: middle;\n",
       "    }\n",
       "\n",
       "    .dataframe tbody tr th {\n",
       "        vertical-align: top;\n",
       "    }\n",
       "\n",
       "    .dataframe thead th {\n",
       "        text-align: right;\n",
       "    }\n",
       "</style>\n",
       "<table border=\"1\" class=\"dataframe\">\n",
       "  <thead>\n",
       "    <tr style=\"text-align: right;\">\n",
       "      <th></th>\n",
       "      <th>Mineral1</th>\n",
       "      <th>Mineral2</th>\n",
       "      <th>Mineral3</th>\n",
       "      <th>Produtividade</th>\n",
       "    </tr>\n",
       "  </thead>\n",
       "  <tbody>\n",
       "    <tr>\n",
       "      <th>Mineral1</th>\n",
       "      <td>1.000000</td>\n",
       "      <td>0.726002</td>\n",
       "      <td>0.038258</td>\n",
       "      <td>0.894398</td>\n",
       "    </tr>\n",
       "    <tr>\n",
       "      <th>Mineral2</th>\n",
       "      <td>0.726002</td>\n",
       "      <td>1.000000</td>\n",
       "      <td>-0.084650</td>\n",
       "      <td>0.642565</td>\n",
       "    </tr>\n",
       "    <tr>\n",
       "      <th>Mineral3</th>\n",
       "      <td>0.038258</td>\n",
       "      <td>-0.084650</td>\n",
       "      <td>1.000000</td>\n",
       "      <td>0.006715</td>\n",
       "    </tr>\n",
       "    <tr>\n",
       "      <th>Produtividade</th>\n",
       "      <td>0.894398</td>\n",
       "      <td>0.642565</td>\n",
       "      <td>0.006715</td>\n",
       "      <td>1.000000</td>\n",
       "    </tr>\n",
       "  </tbody>\n",
       "</table>\n",
       "</div>"
      ],
      "text/plain": [
       "               Mineral1  Mineral2  Mineral3  Produtividade\n",
       "Mineral1       1.000000  0.726002  0.038258       0.894398\n",
       "Mineral2       0.726002  1.000000 -0.084650       0.642565\n",
       "Mineral3       0.038258 -0.084650  1.000000       0.006715\n",
       "Produtividade  0.894398  0.642565  0.006715       1.000000"
      ]
     },
     "execution_count": 126,
     "metadata": {},
     "output_type": "execute_result"
    }
   ],
   "source": [
    "minerais.corr()"
   ]
  },
  {
   "cell_type": "code",
   "execution_count": 124,
   "metadata": {},
   "outputs": [
    {
     "data": {
      "text/plain": [
       "<AxesSubplot:xlabel='Produtividade', ylabel='Mineral3'>"
      ]
     },
     "execution_count": 124,
     "metadata": {},
     "output_type": "execute_result"
    },
    {
     "data": {
      "image/png": "[encoded data removed]",
      "text/plain": [
       "<Figure size 432x288 with 1 Axes>"
      ]
     },
     "metadata": {
      "needs_background": "light"
     },
     "output_type": "display_data"
    },
    {
     "data": {
      "image/png": "[encoded data removed]",
      "text/plain": [
       "<Figure size 432x288 with 1 Axes>"
      ]
     },
     "metadata": {
      "needs_background": "light"
     },
     "output_type": "display_data"
    },
    {
     "data": {
      "image/png": "[encoded data removed]",
      "text/plain": [
       "<Figure size 432x288 with 1 Axes>"
      ]
     },
     "metadata": {
      "needs_background": "light"
     },
     "output_type": "display_data"
    }
   ],
   "source": [
    "\n",
    "minerais.plot.scatter(x='Produtividade', y='Mineral1')\n",
    "minerais.plot.scatter(x='Produtividade', y='Mineral2')\n",
    "minerais.plot.scatter(x='Produtividade', y='Mineral3')"
   ]
  },
  {
   "cell_type": "markdown",
   "metadata": {},
   "source": [
    "<div id=\"p4b\"></div>\n",
    "\n",
    "**b) (0,75 ponto)**\n",
    "<br> Em seguida, produza um texto explicando suas conclusões. Caso a análise fosse repetida em novas áreas, considerando a mesma cultura, você teria alguma recomendação?"
   ]
  },
  {
   "cell_type": "raw",
   "metadata": {},
   "source": [
    "Como pode ser observado atravésdos gráficos apresentados, temos que a correlação e interação entre produtividade e o mineral 1 são fortemente conectadas.\n",
    "portanto, caso a mesma lavoura fosse produzida em outro local, seria interessante que o solo fosse tratado com uma concentração maior do mineral 1, uma menor do mineral 2,\n",
    "e evitar o uso do mineral 3."
   ]
  },
  {
   "cell_type": "raw",
   "metadata": {},
   "source": []
  },
  {
   "cell_type": "markdown",
   "metadata": {},
   "source": [
    "[Volta ao Índice](#indice)"
   ]
  }
 ],
 "metadata": {
  "kernelspec": {
   "display_name": "Python 3.9.12 ('base')",
   "language": "python",
   "name": "python3"
  },
  "language_info": {
   "codemirror_mode": {
    "name": "ipython",
    "version": 3
   },
   "file_extension": ".py",
   "mimetype": "text/x-python",
   "name": "python",
   "nbconvert_exporter": "python",
   "pygments_lexer": "ipython3",
   "version": "3.9.12"
  },
  "vscode": {
   "interpreter": {
    "hash": "8dcc3e1345babda1179f6fdd0aab54adaf420724489c0d41458765ebeec1d2f0"
   }
  }
 },
 "nbformat": 4,
 "nbformat_minor": 4
}
