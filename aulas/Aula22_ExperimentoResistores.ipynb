{
 "cells": [
  {
   "attachments": {},
   "cell_type": "markdown",
   "metadata": {},
   "source": [
    "___\n",
    "# Atividade: Experimento dos Resistores\n",
    "___\n",
    "## Aula 22\n",
    "  > Raphael Cavalcanti Banov\n",
    "  \n",
    "  > Luiz Felipe Borelli durand\n",
    "___\n",
    "### APS EXTRA:\n",
    "  * Grupo: máximo dupla \n",
    "  * Entrega: Anexar este notebook resolvido em link disponibilizado no Blackboard\n",
    "  * Deadline: Hoje final da aula\n",
    "  * Entrega deve ser **Individual**"
   ]
  },
  {
   "cell_type": "code",
   "execution_count": 6,
   "metadata": {},
   "outputs": [],
   "source": [
    "%matplotlib inline\n",
    "import matplotlib.pyplot as plt\n",
    "import pandas as pd\n",
    "import numpy as np\n",
    "from scipy import stats\n",
    "\n",
    "from math import sqrt"
   ]
  },
  {
   "cell_type": "markdown",
   "metadata": {},
   "source": [
    "___\n",
    "<div id=\"resistores\"></div>\n",
    "\n",
    "# Comprar ou não comprar um lote de resistores?\n",
    "\n",
    "Sua empresa está desenvolvendo um produto e o seu departamento ficou responsável por indicar um fabricante de resistores para ser utilizado nesse projeto.\n",
    "\n",
    "Serão comprados muitos resistores e ficaria inviável medi-los individualmente para garantir um mínimo de qualidade ao seu produto.\n",
    "\n",
    "Para auxiliar na sua a tomada de decisão sobre a compra ou não de um lote de resistores, o fabricante enviou uma pequena amostra aleatória de $n$ unidades. Assim, você deve utilizar essa amostra para tomar uma decisão sobre o lote todo (contexto populacional).\n",
    "\n",
    "Considere aqui que o desvio padrão populacional seja conhecido e valha $\\sigma=25 k\\Omega$. \n",
    "\n",
    "Ainda, assuma que não está sendo questionada a qualidade do fabricante decorrente à variabilidade das resistências.\n",
    "\n",
    "\n",
    "**Responda:**"
   ]
  },
  {
   "cell_type": "markdown",
   "metadata": {},
   "source": [
    "**a)** Você receberá um envelope com a amostra de resistores. Faça:\n",
    "\n",
    " * mensure a resistência de cada resistor;\n",
    " * guarde esses valores em uma lista; e\n",
    " * calcule a resistência **média amostral** e o **tamanho da amostra**.\n",
    " \n",
    "Trabalhe em dupla neste item."
   ]
  },
  {
   "cell_type": "code",
   "execution_count": 7,
   "metadata": {},
   "outputs": [],
   "source": [
    "resistores = [\n",
    "    1.033,\n",
    "    1.036,\n",
    "    1.049,\n",
    "    1.045,\n",
    "    1.045,\n",
    "    1.039,\n",
    "    1.050,\n",
    "    1.067,\n",
    "    1.027,\n",
    "    1.027,\n",
    "    1.022,\n",
    "    0.998,\n",
    "    1.061,\n",
    "    \n",
    "]"
   ]
  },
  {
   "cell_type": "code",
   "execution_count": 8,
   "metadata": {},
   "outputs": [
    {
     "name": "stdout",
     "output_type": "stream",
     "text": [
      "Resistência média amostral:  1.0383846153846152 MΩ\n",
      "Tamanho da amostra:  13\n"
     ]
    }
   ],
   "source": [
    "media = np.mean(resistores)\n",
    "n = len(resistores)\n",
    "\n",
    "print(\"Resistência média amostral: \", media, \"MΩ\")\n",
    "print(\"Tamanho da amostra: \", n)"
   ]
  },
  {
   "cell_type": "markdown",
   "metadata": {},
   "source": [
    "**b)** Considerando o que foi feito no item anterior, descreva:\n",
    "  * Variável de interesse $X$ em termos do problema; e\n",
    "  * Parâmetro de interesse (valor populacional) para ter motivado o cálculo da média amostral."
   ]
  },
  {
   "cell_type": "code",
   "execution_count": 9,
   "metadata": {},
   "outputs": [
    {
     "name": "stdout",
     "output_type": "stream",
     "text": [
      "A variável de interesse é a resistência média de um resistor. O parâmetro de interesse é a resistência média populacional, e é desconhecido.\n"
     ]
    }
   ],
   "source": [
    "print(\"A variável de interesse é a resistência média de um resistor. O parâmetro de interesse é a resistência média populacional, e é desconhecido.\")"
   ]
  },
  {
   "cell_type": "code",
   "execution_count": null,
   "metadata": {},
   "outputs": [],
   "source": []
  },
  {
   "cell_type": "code",
   "execution_count": null,
   "metadata": {},
   "outputs": [],
   "source": []
  },
  {
   "cell_type": "markdown",
   "metadata": {},
   "source": [
    "**c)** Seja $\\overline{X}$ a média amostral considerando uma amostra de $n$ resistores selecionados aleatoriamente. Qual é a distribuição de probabilidades de $\\overline{X}$ (qual distribuição e quais os seus respectivos parâmetros)? Aqui foi feito uso do TLC? Justifique porquê."
   ]
  },
  {
   "cell_type": "code",
   "execution_count": 10,
   "metadata": {},
   "outputs": [
    {
     "name": "stdout",
     "output_type": "stream",
     "text": [
      "A distribuição de probabilidades da média amostral é normal, pois o tamanho da amostra é pequena, por isso não foi utilizado o teorema do limite central.\n",
      "Os parâmetros da distribuição normal são: \n",
      " amostra = 13 \n",
      " média = 1.0383846153846152 MΩ \n",
      " desvio padrão = 0.025 kΩ\n"
     ]
    }
   ],
   "source": [
    "soma = 0\n",
    "for i in resistores:\n",
    "    soma += i\n",
    "\n",
    "x_linha = soma/n\n",
    "\n",
    "print(\"A distribuição de probabilidades da média amostral é normal, pois o tamanho da amostra é pequena, por isso não foi utilizado o teorema do limite central.\")\n",
    "print(\"Os parâmetros da distribuição normal são: \\n\", \"amostra =\", n, \"\\n\", \"média =\", x_linha, \"MΩ\", \"\\n\", \"desvio padrão =\", 0.025, \"kΩ\")"
   ]
  },
  {
   "cell_type": "code",
   "execution_count": null,
   "metadata": {},
   "outputs": [],
   "source": []
  },
  {
   "cell_type": "code",
   "execution_count": null,
   "metadata": {},
   "outputs": [],
   "source": []
  },
  {
   "cell_type": "markdown",
   "metadata": {},
   "source": [
    "**d)** Obtenha a margem de erro considerando um coeficiente de confiança igual a $95\\%$.\n",
    "\n",
    "**Dica:** Aqui será necessário fazer uso da Normal Padrão, porém com padronização da média amostral, ou seja,\n",
    "$$Z = \\frac{\\overline{X}-\\mu}{\\sigma/\\sqrt{n}} \\sim N(0; 1)$$"
   ]
  },
  {
   "cell_type": "code",
   "execution_count": 11,
   "metadata": {},
   "outputs": [
    {
     "name": "stdout",
     "output_type": "stream",
     "text": [
      "Margem de erro:  0.013590154807518115\n"
     ]
    }
   ],
   "source": [
    "z = 1.96 # nível de confiança de 95%\n",
    "sigma = 0.025 # desvio padrão populacional\n",
    "margem_erro = z * (sigma/sqrt(n)) # margem de erro\n",
    "\n",
    "print(\"Margem de erro: \", margem_erro)"
   ]
  },
  {
   "cell_type": "code",
   "execution_count": null,
   "metadata": {},
   "outputs": [],
   "source": []
  },
  {
   "cell_type": "code",
   "execution_count": null,
   "metadata": {},
   "outputs": [],
   "source": []
  },
  {
   "cell_type": "markdown",
   "metadata": {},
   "source": [
    "**e)** Qual deveria ser o tamanho da amostra para se ter uma margem de erro de $3 k\\Omega$, com coeficiente de confiança igual a $95\\%$."
   ]
  },
  {
   "cell_type": "code",
   "execution_count": 12,
   "metadata": {},
   "outputs": [
    {
     "name": "stdout",
     "output_type": "stream",
     "text": [
      "Tamanho da amostra:  266.7777777777778\n"
     ]
    }
   ],
   "source": [
    "z = 1.96 # nível de confiança de 95%\n",
    "sigma = 0.025 # desvio padrão populacional em kΩ\n",
    "margem_erro = 0.003 # margem de erro em kΩ\n",
    "n = (z * (sigma/margem_erro))**2 # tamanho da amostra\n",
    "\n",
    "print(\"Tamanho da amostra: \", n)"
   ]
  },
  {
   "cell_type": "code",
   "execution_count": null,
   "metadata": {},
   "outputs": [],
   "source": []
  },
  {
   "cell_type": "code",
   "execution_count": null,
   "metadata": {},
   "outputs": [],
   "source": []
  },
  {
   "cell_type": "markdown",
   "metadata": {},
   "source": [
    "**f)** Agora, considerando a estimativa para a média populacional obtida no item (a), você compraria ou não o lote?\n",
    "Faça uma tomada de decisão baseada no cálculo de uma probabilidade. *Dica:* será necessário fazer alguma hipótese sobre o lote do fabricante. "
   ]
  },
  {
   "cell_type": "code",
   "execution_count": 13,
   "metadata": {},
   "outputs": [
    {
     "name": "stdout",
     "output_type": "stream",
     "text": [
      "Considerando os itens anteriores, com uma amostra de +- 266 resistores, é possível estimar a resistência média populacional com uma margem de erro de 3 kΩ como sendo de 1.04 com 95% de confiança,\n",
      " portanto, eu efetuaria a compra.\n"
     ]
    }
   ],
   "source": [
    "print(\"Considerando os itens anteriores, com uma amostra de +- 266 resistores, é possível estimar a resistência média populacional com uma margem de erro de 3 kΩ como sendo de 1.04 com 95% de confiança,\\n portanto, eu efetuaria a compra.\")"
   ]
  },
  {
   "cell_type": "code",
   "execution_count": null,
   "metadata": {},
   "outputs": [],
   "source": []
  },
  {
   "cell_type": "code",
   "execution_count": null,
   "metadata": {},
   "outputs": [],
   "source": []
  },
  {
   "cell_type": "code",
   "execution_count": null,
   "metadata": {},
   "outputs": [],
   "source": []
  }
 ],
 "metadata": {
  "hide_input": false,
  "kernelspec": {
   "display_name": "Python 3",
   "language": "python",
   "name": "python3"
  },
  "language_info": {
   "codemirror_mode": {
    "name": "ipython",
    "version": 3
   },
   "file_extension": ".py",
   "mimetype": "text/x-python",
   "name": "python",
   "nbconvert_exporter": "python",
   "pygments_lexer": "ipython3",
   "version": "3.9.12"
  }
 },
 "nbformat": 4,
 "nbformat_minor": 2
}
