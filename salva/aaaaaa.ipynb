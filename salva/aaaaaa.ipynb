{
 "cells": [
  {
   "cell_type": "code",
   "execution_count": null,
   "metadata": {},
   "outputs": [],
   "source": [
    "s = [', 2, ',3,12 ]\n",
    "\n",
    "try:\n",
    "    print(s*35)\n",
    "except:\n",
    "    print('fudeu')"
   ]
  }
 ],
 "metadata": {
  "language_info": {
   "name": "python"
  },
  "orig_nbformat": 4
 },
 "nbformat": 4,
 "nbformat_minor": 2
}
