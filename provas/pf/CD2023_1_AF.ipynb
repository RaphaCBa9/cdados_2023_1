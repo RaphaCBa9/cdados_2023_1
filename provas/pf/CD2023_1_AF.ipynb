{
 "cells": [
  {
   "attachments": {},
   "cell_type": "markdown",
   "metadata": {},
   "source": [
    "# AF - Avaliação FINAL de Ciência dos dados \n",
    "\n",
    "## 2023 - 1o. semestre \n",
    "\n",
    "___\n"
   ]
  },
  {
   "attachments": {},
   "cell_type": "markdown",
   "metadata": {},
   "source": [
    "# NOME: Raphael Cavalcanti Banov"
   ]
  },
  {
   "attachments": {},
   "cell_type": "markdown",
   "metadata": {},
   "source": [
    "___\n",
    "<div id=\"indice\"></div>\n",
    "\n",
    "## ÍNDICE\n",
    "\n",
    "- [INSTRUÇÕES](#instrucoes)\n",
    "    - [TEMPO DE PROVA](#tempo)\n",
    "    - [AVISOS GERAIS](#avisosgerais)\n",
    "    - [AVISOS SOBRE DESENVOLVIMENTO DA PROVA](#avisosprova)\n",
    "\n",
    "<br> \n",
    "\n",
    "- [INÍCIO DA PROVA](#inicio)\n",
    "\n",
    "<br>\n",
    "\n",
    "- [DEFEITOS EM PRODUTOS 🔨👎](#p2) \n",
    "    - [PERGUNTA 1](#p1) **[0,50 ponto]**\n",
    "\n",
    "<br>\n",
    "    \n",
    "- [ÍNDICE DE POLUIÇÃO NUMA EMPRESA 🏭😷](#p3)\n",
    "    - [PERGUNTA 2](#p2) **[2,00 pontos]**\n",
    "  \n",
    "<br>\n",
    "\n",
    "- [VIDA ÚTIL DE MOTORES ELÉTRICOS 🔌🦺](#p4)\n",
    "    - [PERGUNTA 3](#p3) **[2,50 pontos]**          \n",
    "        \n",
    "<br>\n",
    "\n",
    "- [RISCO DE CRÉDITO vs PERFIL 👩🏼👩👩🏽 🎲 🧑🏼🧑🧑🏽](#p4) \n",
    "    - [PERGUNTA 4](#p4) **[2,50 pontos]**\n",
    "        - [ABRINDO A BASE DE DADOS](#dados)\n",
    "        - [PROBLEMA](#problema)\n",
    "        - [item (a)](#p4a)\n",
    "        - [item (b)](#p4b)\n",
    "\n",
    "<br>\n",
    "\n",
    "- [CONSUMO DE COMBUSTÍVEL ⛽🚍](#p1) \n",
    "    - [PERGUNTA 5](#p5) **[3,00 pontos]**\n",
    "        - [item (a)](#p5a)\n",
    "        - [item (b)](#p5b)\n",
    "        - [item (c)](#p5c)\n",
    "        - [item (d)](#p5d)\n",
    "\n"
   ]
  },
  {
   "attachments": {},
   "cell_type": "markdown",
   "metadata": {},
   "source": [
    "___\n",
    "<div id=\"instrucoes\"></div>\n",
    "\n",
    "## INSTRUÇÕES\n",
    "\n",
    "<div id=\"tempo\"></div>\n",
    "\n",
    "#### TEMPO DE PROVA\n",
    "\n",
    "**Leia atentamente as instruções desta avaliação. Essas devem ser seguidas rigorosamente!**\n",
    "\n",
    "**Prezado(a) Aluno(a),**\n",
    "\n",
    "Dia da prova **dia 06/06** das 7:30h às 10h.\n",
    "\n",
    "Esta avaliação terá as seguintes etapas:\n",
    "\n",
    "**7h30 às 7h45**\n",
    "       \n",
    " * **(15 minutos) - PROCTORIO:** Entre no Blackboard e inicie o teste em `Conteúdos/Avaliações/Avaliação Final/AF (Proctorio e Arquivos)`. Caso não ative esse teste em até 15 minutos do início da prova (ou seja, até às 7h45), não terá mais direito de entregar essa prova, obtendo falta na mesma.\n",
    "\n",
    "\n",
    "**7h45 às 9h45**  \n",
    "\n",
    " * **(120 minutos) - Desenvolvimento da prova:** Concentre-se em resolver o notebook.\n",
    " * ATENÇÃO: administre esse tempo da maneira que julgar mais adequada para você. **NÃO utilize o cronômetro do Proctorio como referência, mas sim o tempo 120 minutos de prova para realização da prova.**\n",
    "\n",
    "\n",
    "**9h45 às 10h00**  \n",
    " * **(15 minutos) - Entrega via Blackboard - Notebook:** O arquivo `.ipynb` deve ser entregue em `Conteúdos/Avaliações/Avaliação Final/Entrega da prova`. \n",
    " * ATENÇÃO: **finalize o proctorio APENAS após anexar a avaliação no Blackboard.**\n",
    "\n",
    "\n",
    "<br>\n",
    "\n",
    "Leia atentamente as instruções a seguir e as questões da prova antes de começar a resolvê-la. <br>\n",
    "\n",
    "[Volta ao Índice](#indice)"
   ]
  },
  {
   "attachments": {},
   "cell_type": "markdown",
   "metadata": {},
   "source": [
    "<div id=\"avisosgerais\"></div>\n",
    "\n",
    "#### Avisos GERAIS: \n",
    "\n",
    "1. Identifique-se no cabeçalho deste arquivo. Essa prova é INDIVIDUAL.\n",
    "1. Você terá 120 minutos a partir do início oficial da prova para concluir esta avaliação, administre bem o seu tempo. Leia atentamente as instruções a seguir e as questões da prova antes de começar a resolvê-la. \n",
    "1. **Precauções de segurança**, esta avaliação: <br>\n",
    "  * **PERMITE apenas consulta de DUAS folhas A4, frente e verso, escrita de próprio punho pelo aluno.**\n",
    "  * **PERMITE UTILIZAR APENAS UM COMPUTADOR NO QUAL ESTARÁ REALIZANDO A PROVA.**\n",
    "  * ATENÇÃO: **NÃO PERMITE utilizar CO-PILOT do VSCode.** Esse deve estar desabilitado no momento da prova.\n",
    "  * **NÃO PERMITE consulta de caderno ou qualquer outro material físico, com exceção a folha A4.**\n",
    "  * **NÃO PERMITE consulta a colegas (presencial ou remotamente), ou seja, não é permitido ter alguém ao seu lado assim como não é permitido conversar pelo WhatsApp, enviar e-mail ou qualquer outro formato em que converse com outra pessoa**. \n",
    "  * **NÃO PERMITE utilizar CELULAR, TABLET, SEGUNDO COMPUTADOR (ou NOTEBOOK) ou qualquer outro aparelho eletrônico no momento da prova.**\n",
    "  * **O desrespeito as essas regras constituirá violação ao Código de Ética e de Conduta e acarretará sanções nele previstas. Faça o seu trabalho de maneira ética!** \n",
    "\n",
    "1. Sua prova utilizará o sistema de Proctoring.  Para instalar a extensão, acesse o site https://getproctorio.com/ pelo Google Chrome e siga os passos indicados. Caso tenha dúvidas ou dificuldades, avise seu professor pelo chat e entre em contato com o Help Desk por meio de abertura de chamado ou pelo telefone (11) 4504-2550.\n",
    "Para realizar a prova será necessário:\n",
    "  *\tUm desktop ou um notebook com qualquer sistema operacional (dispositivos móveis não serão aceitos)\n",
    "  *\tNavegador Google Chrome (o sistema funciona somente nele)\n",
    "  *\tExtensão da plataforma instalada (sem ela o sistema não funcionará)\n",
    "\n",
    "1. **É proibido o uso de fones de ouvido durante toda a prova. Não leia as questões em voz alta. Não ouvir música.**\n",
    "1. **ENTREGA DO ARQUIVO**: Antes de sair da prova, garanta que entregou a prova no link indicado. Verifique se o arquivo das questões resolvidas teve seu upload concluído e que fechou o teste ao final. Você é o responsável pela entrega adequada de todas as questões de sua prova. Avaliações entregues fora do prazo não serão aceitas para correção.\n",
    "1. Caso precise se ausentar da prova para ir ao banheiro, comunique o(a) professor(a). Lembre-se de ser rápido e retornar prontamente à prova. <br>\n",
    "\n",
    "[Volta ao Índice](#indice)"
   ]
  },
  {
   "attachments": {},
   "cell_type": "markdown",
   "metadata": {},
   "source": [
    "<div id=\"avisosprova\"></div>\n",
    "\n",
    "#### Avisos sobre desenvolvimento da prova:\n",
    "\n",
    "1. Esta Avaliação consiste em responder um arquivo Jupyter que será anexado ao Blackboard ao final da prova.\n",
    "1. Leia atentamente as **Precauções de segurança** descritas acima no item 3 dos Avisos Gerais para evitar ter sua prova anulada.\n",
    "1. Você não pode compartilhar material com seus colegas durante a prova.\n",
    "1. Em caso de dúvida sobre alguma questão desta avaliação, redija um texto em uma nova célula deste Jupyter notebook explicitando-a para que o professor avalie a pertinência durante a correção.  \n",
    "1. Leia atentamente cada questão e responda o que for pedido. Erros conceituais serão penalizados, mesmo que o conceito não se relacione com o que foi pedido na questão.\n",
    "1. Caso em algum item você necessite do resultado de um item anterior que você não conseguiu fazer, admita um valor razoável para esse resultado e faça o item normalmente. Indique na questão, caso isso aconteça.\n",
    "1. Todos os resultados devem ser justificados. Números que apareçam sem uma explicação de como foram encontrados serão ignorados na correção.\n",
    "1. **A qualidade do código na resolução em cada item também será levada em consideração, ou seja, códigos complicados para soluções que podem ser simples serão penalizados.**\n",
    "1. Esta avaliação requer **entrega via Blackboard**. **Não serão consideradas entregas por outros meios** (ex: e-mail, MS Teams, etc.). <br>\n",
    "\n",
    "[Volta ao Índice](#indice)"
   ]
  },
  {
   "cell_type": "code",
   "execution_count": 90,
   "metadata": {},
   "outputs": [],
   "source": [
    "%matplotlib inline\n",
    "import matplotlib.pyplot as plt\n",
    "\n",
    "import math\n",
    "import os\n",
    "import numpy as np\n",
    "from numpy import arange, linspace\n",
    "import pandas as pd\n",
    "from math import sqrt\n",
    "\n",
    "from scipy import stats\n",
    "from scipy.stats import uniform, expon, norm\n",
    "from scipy.stats import norm, probplot\n",
    "\n",
    "import statsmodels.api as sm\n",
    "\n",
    "from IPython.display import display  # Para ter melhor print."
   ]
  },
  {
   "cell_type": "code",
   "execution_count": 91,
   "metadata": {},
   "outputs": [],
   "source": [
    "### Função utilitária para fazer a regressão com constante adicionada\n",
    "\n",
    "def regress(Y,X):\n",
    "    '''\n",
    "    Y: coluna do DataFrame utilizada como variável resposta (TARGET)\n",
    "    X: coluna(s) do DataFrame utilizadas como variável(is) explicativas (FEATURES)\n",
    "    '''\n",
    "    X_cp = sm.add_constant(X)\n",
    "    model = sm.OLS(Y,X_cp)\n",
    "    results = model.fit()\n",
    "    \n",
    "    return results"
   ]
  },
  {
   "attachments": {},
   "cell_type": "markdown",
   "metadata": {},
   "source": [
    "___\n",
    "<div id=\"inicio\"></div>\n",
    "\n",
    "## INÍCIO DA PROVA\n",
    "\n",
    "### Atenção:\n",
    " **(1)** Caso não esteja dito no enunciado, declare uma letra para cada variável aleatória conforme contexto e use-a na resolução dos itens desta pergunta. <br>\n",
    " $\\quad$ *Exemplo de enunciado:* <br>\n",
    " $\\quad$ Considere que a idade de um aluno de primeiro ano de graduação tenha média igual a 18 anos com desvio padrão de 0,5 anos e que essa seja modelada por uma distribuição normal. Calcule a probabilidade de encontrar um aluno nesse contexto com mais do que 19 anos.<br>\n",
    " \n",
    " $\\quad$ *Declare na sua resolução:* <br>\n",
    " $\\quad$ X: idade de um aluno de primeiro ano de graduação. <br>\n",
    " $\\quad$ X ~ N(18; 0.5^2) <br>\n",
    " $\\quad$ P(X > 19) = ? <br>\n",
    " \n",
    " **(2)** Faça sua resolução da maneira mais clara possível, apresentando detalhamente a conta feita para obtenção de cada nova informação numérica a partir das ditas no enunciado.  \n",
    " \n",
    "[Volta ao Índice](#indice)"
   ]
  },
  {
   "attachments": {},
   "cell_type": "markdown",
   "metadata": {},
   "source": [
    "___\n",
    "<div id=\"p1\"></div>\n",
    "\n",
    "# DEFEITOS EM PRODUTOS 🔨👎\n",
    "\n",
    "## PERGUNTA 1 (0,50 ponto)\n",
    "\n",
    "Em um ambiente de produção, a taxa de defeitos em produtos mede a quantidade média de produtos com defeitos em relação ao total produzido. Historicamente, essa linha de produção tem taxa de defeitos em torno de 6%, ou seja, 0.06. <br>\n",
    "Um novo gerente pretende adotar mudanças com intuito de melhorar a qualidade dessa linha de produção com relação ao histórico. <br>\n",
    "Escreva as hipóteses nula e alternativa em termos do problema e do parâmetro.\n",
    "\n",
    "ATENÇÃO: Lembre-se da observação descrita em [INÍCIO DA PROVA](#inicio)."
   ]
  },
  {
   "attachments": {},
   "cell_type": "markdown",
   "metadata": {},
   "source": [
    "$\\quad$ *Hipótese:* <br>\n",
    " $\\quad$ H0 -> $\\mu$ $>$ 0.06. `Taxa de defeitos na linha de produção menor que 6%` <br>\n",
    " $\\quad$ HA -> $\\mu$ $\\leq$ 0.06.`Taxa de defeitos na linha de produção maior que 6%`<br>"
   ]
  },
  {
   "attachments": {},
   "cell_type": "markdown",
   "metadata": {},
   "source": [
    "[Volta ao Índice](#indice)"
   ]
  },
  {
   "attachments": {},
   "cell_type": "markdown",
   "metadata": {},
   "source": [
    "___\n",
    "<div id=\"p2\"></div>\n",
    "\n",
    "# ÍNDICE DE POLUIÇÃO NUMA EMPRESA 🏭😷\n",
    "\n",
    "## PERGUNTA 2 (2,00 ponto)\n",
    "\n",
    "\n",
    "Um órgão regulatório ambiental está acompanhando o índice médio de poluição nas filiais de uma determinada empresa, o qual tem sido, historicamente, em torno de 65 ppm (partículas por milhão), com desvio padrão de 12 ppm.  <br>\n",
    "Para não receber multa, essa empresa implementou uma série de mudanças e melhorias em seus processos de produção para reduzir esse índice em mais do que 20% com relação ao índice histórico.\n",
    "Para avaliar a eficácia dessa implementação por meio de um teste de hipóteses adequado, as hipóteses nula e alternativa foram dadas por:\n",
    "\n",
    " $\\quad$ H0: 𝜇 $\\geq$ 𝜇0 <br>\n",
    " $\\quad$ H1: 𝜇 $<$ 𝜇0\n",
    "\n",
    "sendo 𝜇 o índice médio de poluição nas filiais após implementação de uma série de mudanças e melhorias nos processos de produção.\n",
    "\n",
    "Com base em uma amostra de 10 filiais selecionadas aleatoriamente, a média amostral do índice de poluição após implementação foi igual a 46 ppm. Assuma que o desvio padrão permaneceu o mesmo que o histórico. <br>\n",
    "\n",
    "Faça: <br>\n",
    " * Atribua um valor para 𝜇0 de acordo com o problema descrito no enunciado. <br>\n",
    " * Calcule o **valor-p** adequadamente. <br> \n",
    " * Tire uma conclusão em termos do problema. <br>\n",
    "\n",
    "Justifique todas as suas respostas.\n",
    "\n",
    "ATENÇÃO: Lembre-se da observação descrita em [INÍCIO DA PROVA](#inicio)."
   ]
  },
  {
   "cell_type": "code",
   "execution_count": 92,
   "metadata": {},
   "outputs": [],
   "source": [
    "mu_0 = norm.ppf(0.2, loc=65, scale=12)# 20% de redução no índice médio de poluição\n",
    "mu_historico=65\n",
    "sigma = 12\n",
    "x_barra = 46\n",
    "n=10\n",
    "alpha= 0.1 # considerando um coef. de confiança padrão"
   ]
  },
  {
   "attachments": {},
   "cell_type": "markdown",
   "metadata": {},
   "source": [
    "#### Este é um caso unilateral à esquerda"
   ]
  },
  {
   "cell_type": "code",
   "execution_count": 93,
   "metadata": {},
   "outputs": [],
   "source": [
    "v_p = norm.cdf(x_barra, loc=mu_0, scale=sigma/(n**(1/2)))"
   ]
  },
  {
   "cell_type": "code",
   "execution_count": 94,
   "metadata": {},
   "outputs": [
    {
     "name": "stdout",
     "output_type": "stream",
     "text": [
      "A implementação destas mudanças não foi eficaz o suficiente :(! Portanto Rejeita-se H0\n"
     ]
    }
   ],
   "source": [
    "if v_p<alpha:\n",
    "    print('A implementação destas mudanças não foi eficaz o suficiente :(! Portanto Rejeita-se H0')\n",
    "else:\n",
    "    print('A implementação destas mudanças foi eficaz :)! Portanto, não se rejeita H0')"
   ]
  },
  {
   "attachments": {},
   "cell_type": "markdown",
   "metadata": {},
   "source": [
    "[Volta ao Índice](#indice)"
   ]
  },
  {
   "attachments": {},
   "cell_type": "markdown",
   "metadata": {},
   "source": [
    "___\n",
    "<div id=\"p3\"></div>\n",
    "\n",
    "# VIDA ÚTIL DE MOTORES ELÉTRICOS 🔌🦺\n",
    "\n",
    "## PERGUNTA 3 (2,50 ponto)\n",
    "\n",
    "Um fabricante de motores elétricos deseja avaliar se uma nova técnica de isolamento aplicada nos fios desses motores resultou em um aumento significativo na vida útil média desses motores que, atualmente, é igual a 1000 horas de operação.\n",
    "Para avaliar se essa nova técnica de isolamento foi eficaz, por meio de um teste de hipóteses, considere:\n",
    "\n",
    " $\\quad$ H0: nova técnica de isolamento não foi eficaz ⇒ 𝜇 $\\leq$ 1000 <br>\n",
    " $\\quad$ H1: nova técnica de isolamento foi eficaz     ⇒ 𝜇 $>$ 1000\n",
    "\n",
    "sendo 𝜇 a vida útil média desses motores elétricos com a nova técnica.\n",
    "\n",
    "Uma amostra aleatória de motores elétricos construídos com essa nova técnica foi selecionada e os valores observados para a variável de interesse (X: vida útil de cada motor construído com nova técnica) foram:"
   ]
  },
  {
   "cell_type": "code",
   "execution_count": 95,
   "metadata": {
    "scrolled": true
   },
   "outputs": [],
   "source": [
    "amostra = pd.Series([1020, 980, 1035, 990, 1012, 1018, 995, 1005, 1003, 1085, 1008, 1010, 1032, 1001, 990, 1007])"
   ]
  },
  {
   "attachments": {},
   "cell_type": "markdown",
   "metadata": {},
   "source": [
    "Baseado em **análises inferenciais** adequadas, conclua se nova técnica de isolamento aplicada nos fios desses motores foi eficaz ou não. <br> \n",
    "Resolva via **região crítica**, com 𝛼 = 0.10. <br> \n",
    "Justifique sua resposta. \n",
    "\n",
    "ATENÇÃO: Lembre-se da observação descrita em [INÍCIO DA PROVA](#inicio)."
   ]
  },
  {
   "cell_type": "code",
   "execution_count": 96,
   "metadata": {},
   "outputs": [],
   "source": [
    "mu_xbarra = amostra.mean()\n",
    "sigma_xbarra = amostra.std()\n",
    "mu_hipotese=1000\n",
    "alpha=0.1\n",
    "n = len(amostra)"
   ]
  },
  {
   "attachments": {},
   "cell_type": "markdown",
   "metadata": {},
   "source": [
    "#### Este é um caso unicaudal à direita"
   ]
  },
  {
   "cell_type": "code",
   "execution_count": 97,
   "metadata": {},
   "outputs": [],
   "source": [
    "t_observado = (mu_xbarra-mu_hipotese)/(sigma_xbarra/sqrt(n))\n",
    "t_critico = stats.t.ppf(1-alpha, df=n-1)"
   ]
  },
  {
   "cell_type": "code",
   "execution_count": 98,
   "metadata": {},
   "outputs": [
    {
     "name": "stdout",
     "output_type": "stream",
     "text": [
      "A técnica foi eficaz :)! Portanto não se rejeita H0\n"
     ]
    }
   ],
   "source": [
    "if t_observado<t_critico:\n",
    "    print('A técnica não foi eficaz :(! Portanto rejeita-se H0')\n",
    "else:\n",
    "    print('A técnica foi eficaz :)! Portanto não se rejeita H0')"
   ]
  },
  {
   "attachments": {},
   "cell_type": "markdown",
   "metadata": {},
   "source": [
    "[Volta ao Índice](#indice)"
   ]
  },
  {
   "attachments": {},
   "cell_type": "markdown",
   "metadata": {},
   "source": [
    "___\n",
    "<div id=\"p4\"></div>\n",
    "\n",
    "# RISCO DE CRÉDITO vs PERFIL 👩🏼👩👩🏽 🎲 🧑🏼🧑🧑🏽\n",
    "\n",
    "## PERGUNTA 4 (2,50 pontos)\n",
    "\n",
    "No *dataframe* `dados` abaixo disponibilizado, cada linha representa uma pessoa que recebeu financiamento de um banco. <br>\n",
    "Ainda, cada pessoa tem a quantia de dinheiro financiado e seu respectivo perfil (seus atributos), os quais estão descritos nas seguintes variáveis:\n",
    "\n",
    " * `Age`: informa idade, em anos;\n",
    " * `Sex`: informa sexo da pessoa, categorizada em: `male` e `female`;\n",
    " * `Job`: informa qualificação no emprego, categorizada em: `unskilled and non-resident`, `unskilled and resident`, `skilled`, `highly skilled`;\n",
    " * `Housing`: informa se possui casa própria, alugada ou moradia grátis, categorizada em: `own`, `rent`, `free`;\n",
    " * `Saving accounts`: informa nível de dinheiro na conta popupança, categorizada em: `little`, `moderate`, `quite rich`, `rich`;\n",
    " * `Checking account`: informa nível de dinheiro na conta corrente, categorizada em: `little`, `moderate`, `rich`;\n",
    " * `Credit amount`: informa quantia de crédito, ou seja, quantia de dinheiro financiada no banco, em dólares;\n",
    " * `Duration`: informa o tempo do financiamento, em meses;\n",
    " * `Purpose`: informa o propósito do financiamento, categorizada em: `car`, `furniture/equipment`, `radio/TV`, `domestic appliances`, `repairs`, `education`, `business`, `vacation/others`; e\n",
    " * `Risk`: informa se o risco do crédito é ruim (maior chance é de ser um mau pagador) ou bom (maior chance é de ser um bom pagador), categorizada respectivamente em: `bad` ou `good`.\n",
    "\n",
    "\n",
    "**Obs.:** Esta pergunta utiliza uma versão da base de dados original preparada por Prof. Hofmann \n",
    "[aqui](https://archive.ics.uci.edu/ml/datasets/statlog+(german+credit+data)). "
   ]
  },
  {
   "attachments": {},
   "cell_type": "markdown",
   "metadata": {},
   "source": [
    "<div id=\"dados\"></div>\n",
    "\n",
    "#### ABRINDO A BASE DE DADOS:"
   ]
  },
  {
   "cell_type": "code",
   "execution_count": 99,
   "metadata": {
    "scrolled": true
   },
   "outputs": [
    {
     "name": "stdout",
     "output_type": "stream",
     "text": [
      "Esperamos trabalhar no diretório\n",
      "c:\\Users\\rapha\\OneDrive - Insper - Institudo de Ensino e Pesquisa\\Área de Trabalho\\Faculdade\\3 semestre\\cdados_dp\\cdados_2023_1\\provas\\pf\n"
     ]
    }
   ],
   "source": [
    "print(\"Esperamos trabalhar no diretório\")\n",
    "print(os.getcwd())"
   ]
  },
  {
   "cell_type": "code",
   "execution_count": 100,
   "metadata": {},
   "outputs": [
    {
     "name": "stdout",
     "output_type": "stream",
     "text": [
      "Parece que o arquivo german_credit_data.csv está na mesma pasta do notebook da avaliação, yay!\n",
      "\n"
     ]
    }
   ],
   "source": [
    "filename = 'german_credit_data.csv'\n",
    "if filename in os.listdir():\n",
    "    print(f'Parece que o arquivo {filename} está na mesma pasta do notebook da avaliação, yay!\\n')\n",
    "    \n",
    "else:\n",
    "    print(f'Não encontrei o arquivo {filename}.\\n'\n",
    "          f'O notebook e os arquivos de dados desta avaliação devem ser salvos dentro da mesma pasta no seu computador.\\n')"
   ]
  },
  {
   "cell_type": "code",
   "execution_count": 101,
   "metadata": {
    "scrolled": false
   },
   "outputs": [
    {
     "data": {
      "text/html": [
       "<div>\n",
       "<style scoped>\n",
       "    .dataframe tbody tr th:only-of-type {\n",
       "        vertical-align: middle;\n",
       "    }\n",
       "\n",
       "    .dataframe tbody tr th {\n",
       "        vertical-align: top;\n",
       "    }\n",
       "\n",
       "    .dataframe thead th {\n",
       "        text-align: right;\n",
       "    }\n",
       "</style>\n",
       "<table border=\"1\" class=\"dataframe\">\n",
       "  <thead>\n",
       "    <tr style=\"text-align: right;\">\n",
       "      <th></th>\n",
       "      <th>ID</th>\n",
       "      <th>Age</th>\n",
       "      <th>Sex</th>\n",
       "      <th>Job</th>\n",
       "      <th>Housing</th>\n",
       "      <th>Saving accounts</th>\n",
       "      <th>Checking account</th>\n",
       "      <th>Credit amount</th>\n",
       "      <th>Duration</th>\n",
       "      <th>Purpose</th>\n",
       "      <th>Risk</th>\n",
       "    </tr>\n",
       "  </thead>\n",
       "  <tbody>\n",
       "    <tr>\n",
       "      <th>0</th>\n",
       "      <td>0</td>\n",
       "      <td>67</td>\n",
       "      <td>male</td>\n",
       "      <td>2</td>\n",
       "      <td>own</td>\n",
       "      <td>NaN</td>\n",
       "      <td>little</td>\n",
       "      <td>1169</td>\n",
       "      <td>6</td>\n",
       "      <td>radio/TV</td>\n",
       "      <td>good</td>\n",
       "    </tr>\n",
       "    <tr>\n",
       "      <th>1</th>\n",
       "      <td>1</td>\n",
       "      <td>22</td>\n",
       "      <td>female</td>\n",
       "      <td>2</td>\n",
       "      <td>own</td>\n",
       "      <td>little</td>\n",
       "      <td>moderate</td>\n",
       "      <td>5951</td>\n",
       "      <td>48</td>\n",
       "      <td>radio/TV</td>\n",
       "      <td>bad</td>\n",
       "    </tr>\n",
       "  </tbody>\n",
       "</table>\n",
       "</div>"
      ],
      "text/plain": [
       "   ID  Age     Sex  Job Housing Saving accounts Checking account  \\\n",
       "0   0   67    male    2     own             NaN           little   \n",
       "1   1   22  female    2     own          little         moderate   \n",
       "\n",
       "   Credit amount  Duration   Purpose  Risk  \n",
       "0           1169         6  radio/TV  good  \n",
       "1           5951        48  radio/TV   bad  "
      ]
     },
     "execution_count": 101,
     "metadata": {},
     "output_type": "execute_result"
    }
   ],
   "source": [
    "dados = pd.read_csv(filename)\n",
    "dados.head(2)"
   ]
  },
  {
   "cell_type": "code",
   "execution_count": 102,
   "metadata": {},
   "outputs": [
    {
     "data": {
      "text/plain": [
       "(1000, 11)"
      ]
     },
     "execution_count": 102,
     "metadata": {},
     "output_type": "execute_result"
    }
   ],
   "source": [
    "# Dimensão do dataframe: (número de linhas, número de colunas)\n",
    "dados.shape"
   ]
  },
  {
   "attachments": {},
   "cell_type": "markdown",
   "metadata": {},
   "source": [
    "**Caso queira consultar nomes das colunas do *dataframe* `dados`, use o comando abaixo:**"
   ]
  },
  {
   "cell_type": "code",
   "execution_count": 103,
   "metadata": {
    "scrolled": true
   },
   "outputs": [
    {
     "data": {
      "text/plain": [
       "Index(['ID', 'Age', 'Sex', 'Job', 'Housing', 'Saving accounts',\n",
       "       'Checking account', 'Credit amount', 'Duration', 'Purpose', 'Risk'],\n",
       "      dtype='object')"
      ]
     },
     "execution_count": 103,
     "metadata": {},
     "output_type": "execute_result"
    }
   ],
   "source": [
    "dados.columns "
   ]
  },
  {
   "attachments": {},
   "cell_type": "markdown",
   "metadata": {},
   "source": [
    "<div id=\"problema\"></div>\n",
    "\n",
    "#### PROBLEMA DA PERGUNTA 4:\n",
    "\n",
    "Assuma que o objetivo seja prever a *target*: quantia de dinheiro financiada no banco, em dólares, levando em consideração apenas as duas variáveis quantitativas com *features*: idade, em anos; e tempo do financiamento, em meses. <br>\n",
    "\n",
    "Para  tanto, foi ajustado um modelo de regressão múltipla fazendo uso da função [`regress`](#regress) (que está definida no início deste *notebook* ) da seguinte forma:"
   ]
  },
  {
   "cell_type": "code",
   "execution_count": 104,
   "metadata": {},
   "outputs": [],
   "source": [
    "X = dados[['Age', 'Duration']]\n",
    "Y = dados['Credit amount']"
   ]
  },
  {
   "cell_type": "code",
   "execution_count": 105,
   "metadata": {},
   "outputs": [
    {
     "data": {
      "text/html": [
       "<table class=\"simpletable\">\n",
       "<caption>OLS Regression Results</caption>\n",
       "<tr>\n",
       "  <th>Dep. Variable:</th>      <td>Credit amount</td>  <th>  R-squared:         </th> <td>   0.394</td> \n",
       "</tr>\n",
       "<tr>\n",
       "  <th>Model:</th>                   <td>OLS</td>       <th>  Adj. R-squared:    </th> <td>   0.392</td> \n",
       "</tr>\n",
       "<tr>\n",
       "  <th>Method:</th>             <td>Least Squares</td>  <th>  F-statistic:       </th> <td>   323.7</td> \n",
       "</tr>\n",
       "<tr>\n",
       "  <th>Date:</th>             <td>Tue, 06 Jun 2023</td> <th>  Prob (F-statistic):</th> <td>4.80e-109</td>\n",
       "</tr>\n",
       "<tr>\n",
       "  <th>Time:</th>                 <td>09:48:54</td>     <th>  Log-Likelihood:    </th> <td> -9113.7</td> \n",
       "</tr>\n",
       "<tr>\n",
       "  <th>No. Observations:</th>      <td>  1000</td>      <th>  AIC:               </th> <td>1.823e+04</td>\n",
       "</tr>\n",
       "<tr>\n",
       "  <th>Df Residuals:</th>          <td>   997</td>      <th>  BIC:               </th> <td>1.825e+04</td>\n",
       "</tr>\n",
       "<tr>\n",
       "  <th>Df Model:</th>              <td>     2</td>      <th>                     </th>     <td> </td>    \n",
       "</tr>\n",
       "<tr>\n",
       "  <th>Covariance Type:</th>      <td>nonrobust</td>    <th>                     </th>     <td> </td>    \n",
       "</tr>\n",
       "</table>\n",
       "<table class=\"simpletable\">\n",
       "<tr>\n",
       "      <td></td>        <th>coef</th>     <th>std err</th>      <th>t</th>      <th>P>|t|</th>  <th>[0.025</th>    <th>0.975]</th>  \n",
       "</tr>\n",
       "<tr>\n",
       "  <th>const</th>    <td> -284.9942</td> <td>  262.100</td> <td>   -1.087</td> <td> 0.277</td> <td> -799.325</td> <td>  229.337</td>\n",
       "</tr>\n",
       "<tr>\n",
       "  <th>Age</th>      <td>   13.7405</td> <td>    6.123</td> <td>    2.244</td> <td> 0.025</td> <td>    1.724</td> <td>   25.757</td>\n",
       "</tr>\n",
       "<tr>\n",
       "  <th>Duration</th> <td>  146.7652</td> <td>    5.776</td> <td>   25.408</td> <td> 0.000</td> <td>  135.430</td> <td>  158.100</td>\n",
       "</tr>\n",
       "</table>\n",
       "<table class=\"simpletable\">\n",
       "<tr>\n",
       "  <th>Omnibus:</th>       <td>396.837</td> <th>  Durbin-Watson:     </th> <td>   2.060</td>\n",
       "</tr>\n",
       "<tr>\n",
       "  <th>Prob(Omnibus):</th> <td> 0.000</td>  <th>  Jarque-Bera (JB):  </th> <td>1909.065</td>\n",
       "</tr>\n",
       "<tr>\n",
       "  <th>Skew:</th>          <td> 1.799</td>  <th>  Prob(JB):          </th> <td>    0.00</td>\n",
       "</tr>\n",
       "<tr>\n",
       "  <th>Kurtosis:</th>      <td> 8.734</td>  <th>  Cond. No.          </th> <td>    161.</td>\n",
       "</tr>\n",
       "</table><br/><br/>Notes:<br/>[1] Standard Errors assume that the covariance matrix of the errors is correctly specified."
      ],
      "text/plain": [
       "<class 'statsmodels.iolib.summary.Summary'>\n",
       "\"\"\"\n",
       "                            OLS Regression Results                            \n",
       "==============================================================================\n",
       "Dep. Variable:          Credit amount   R-squared:                       0.394\n",
       "Model:                            OLS   Adj. R-squared:                  0.392\n",
       "Method:                 Least Squares   F-statistic:                     323.7\n",
       "Date:                Tue, 06 Jun 2023   Prob (F-statistic):          4.80e-109\n",
       "Time:                        09:48:54   Log-Likelihood:                -9113.7\n",
       "No. Observations:                1000   AIC:                         1.823e+04\n",
       "Df Residuals:                     997   BIC:                         1.825e+04\n",
       "Df Model:                           2                                         \n",
       "Covariance Type:            nonrobust                                         \n",
       "==============================================================================\n",
       "                 coef    std err          t      P>|t|      [0.025      0.975]\n",
       "------------------------------------------------------------------------------\n",
       "const       -284.9942    262.100     -1.087      0.277    -799.325     229.337\n",
       "Age           13.7405      6.123      2.244      0.025       1.724      25.757\n",
       "Duration     146.7652      5.776     25.408      0.000     135.430     158.100\n",
       "==============================================================================\n",
       "Omnibus:                      396.837   Durbin-Watson:                   2.060\n",
       "Prob(Omnibus):                  0.000   Jarque-Bera (JB):             1909.065\n",
       "Skew:                           1.799   Prob(JB):                         0.00\n",
       "Kurtosis:                       8.734   Cond. No.                         161.\n",
       "==============================================================================\n",
       "\n",
       "Notes:\n",
       "[1] Standard Errors assume that the covariance matrix of the errors is correctly specified.\n",
       "\"\"\""
      ]
     },
     "execution_count": 105,
     "metadata": {},
     "output_type": "execute_result"
    }
   ],
   "source": [
    "results = regress(Y,X)\n",
    "results.summary()"
   ]
  },
  {
   "attachments": {},
   "cell_type": "markdown",
   "metadata": {},
   "source": [
    "<div id=\"p4a\"></div>\n",
    "\n",
    "**P4(a)** <br> \n",
    "Com o *output* do modelo ajustado acima, discuta:\n",
    "  * **(a1)** A relevância de cada `feature` quantitativa para prever a quantia de dinheiro financiada, com 1% de nível de significância. \n",
    "  * **(a2)** Interprete, em termos do problema, os valores dos coeficientes estimados pelo modelo de regressão, ou seja, utilizando o significado das variáveis *target* e *features* nessa interpretação. "
   ]
  },
  {
   "attachments": {},
   "cell_type": "markdown",
   "metadata": {},
   "source": [
    "#### Resposta:\n",
    "> Com um nível de significancia de 1% (0.01), temos que apenas a _feature_ `duration` pode ser considerada relevante para nossa target\n",
    "\n",
    "> De acordo com o modelo de regressão, temos que a quantidade de dinheiro no banco em dólares de um cliente qualquer possui mais relação com o tempo de financiamento do que com a idade do cliente"
   ]
  },
  {
   "attachments": {},
   "cell_type": "markdown",
   "metadata": {},
   "source": [
    "<div id=\"p4b\"></div>\n",
    "\n",
    "**P4(b)** <br>\n",
    "Considerando algum **recurso gráfico** adequado, discuta a adequação da distribuição normal aos resíduos do modelo ajustado em `results`."
   ]
  },
  {
   "cell_type": "code",
   "execution_count": 106,
   "metadata": {},
   "outputs": [],
   "source": [
    "residuos=results.resid\n",
    "duration = dados.Duration\n",
    "age = dados.Age\n"
   ]
  },
  {
   "attachments": {},
   "cell_type": "markdown",
   "metadata": {},
   "source": [
    "### Usando o Scatter"
   ]
  },
  {
   "cell_type": "code",
   "execution_count": 107,
   "metadata": {},
   "outputs": [
    {
     "data": {
      "image/png": "[encoded data removed]",
      "text/plain": [
       "<Figure size 720x576 with 2 Axes>"
      ]
     },
     "metadata": {
      "needs_background": "light"
     },
     "output_type": "display_data"
    }
   ],
   "source": [
    "plt.figure(figsize=(10,8))\n",
    "plt.subplot(3,1,1)\n",
    "plt.scatter(duration, residuos, alpha=0.3)\n",
    "plt.xlabel('duração')\n",
    "plt.ylabel('resíduo')\n",
    "plt.subplot(2,1,2)\n",
    "plt.scatter(age, residuos, alpha=0.3)\n",
    "plt.xlabel('Idade')\n",
    "plt.ylabel('resíduo')\n",
    "plt.show()\n"
   ]
  },
  {
   "attachments": {},
   "cell_type": "markdown",
   "metadata": {},
   "source": [
    "### Usando BarPlot"
   ]
  },
  {
   "cell_type": "code",
   "execution_count": 108,
   "metadata": {},
   "outputs": [
    {
     "data": {
      "image/png": "[encoded data removed]",
      "text/plain": [
       "<Figure size 720x576 with 2 Axes>"
      ]
     },
     "metadata": {
      "needs_background": "light"
     },
     "output_type": "display_data"
    }
   ],
   "source": [
    "plt.figure(figsize=(10,8))\n",
    "plt.subplot(3,1,1)\n",
    "plt.bar(duration, residuos, alpha=0.3)\n",
    "plt.xlabel('duração')\n",
    "plt.ylabel('resíduo')\n",
    "plt.subplot(2,1,2)\n",
    "plt.bar(age, residuos, alpha=0.3)\n",
    "plt.xlabel('Idade')\n",
    "plt.ylabel('resíduo')\n",
    "plt.show()"
   ]
  },
  {
   "attachments": {},
   "cell_type": "markdown",
   "metadata": {},
   "source": [
    "### Resposta:\n",
    "> 1) De acordo com os gráficos de dispersão e de barras, pode-se concluir que, em relação aos resíduos, as `features` da regressão não seguem uma distribuição normal\n",
    "\n",
    "\n",
    "> 2) Analisando em termos deprobabilidade apresentadas pelo modelo de regressão, temos que a probabilidade Omnibus e a probabilidade Jarque-Bera são __ambas__ menores que o nível de significância de 1%, portanto, pode-se concluir, também, que as `features` não seguem normalidade"
   ]
  },
  {
   "attachments": {},
   "cell_type": "markdown",
   "metadata": {},
   "source": [
    "[Volta ao Índice](#indice)"
   ]
  },
  {
   "attachments": {},
   "cell_type": "markdown",
   "metadata": {},
   "source": [
    "___\n",
    "<div id=\"p5\"></div>\n",
    "\n",
    "# CONSUMO DE COMBUSTÍVEL ⛽🚍\n",
    "\n",
    "## PERGUNTA 5 (3,00 pontos)\n",
    "\n",
    "\n",
    "Uma empresa de transporte rodoviário está interessada em prever o consumo de combustível por viagem com base em duas variáveis quantitativas: \n",
    "  * X: a distância total percorrida em uma viagem, em km; e\n",
    "  * Y: velocidade média durante uma viagem, em km/h\n",
    "  \n",
    "A empresa deseja prever C: consumo de combustível por viagem, em litros, com base na seguinte combinação linear:\n",
    "\n",
    "    C = 0.01 + 0.05 X + 0.30 Y\n",
    "\n",
    "Considere que, teoricamente, X segue uma distribuição normal com média igual a 300 km e desvio padrão igual a 50 km e Y segue uma distribuição uniforme entre 50 km/h e 80 km/h. Ainda, a correlação entre a X e Y seja igual a 0,70.\n"
   ]
  },
  {
   "attachments": {},
   "cell_type": "markdown",
   "metadata": {},
   "source": [
    "##### <div id=\"p5a\"></div>\n",
    "\n",
    "**P5(a)**<br>\n",
    "Qual deve ser o consumo previsto de combustível quando considerada uma viagem feita com velocidade média de 55 km/h e distância percorrida correspondente ao quantil de ordem 20% da distribuição de probabilidades de X? <br>\n",
    "Justifique sua resposta."
   ]
  },
  {
   "cell_type": "code",
   "execution_count": 109,
   "metadata": {},
   "outputs": [],
   "source": [
    "# distribuição X\n",
    "mu = 300\n",
    "sigma = 50\n",
    "\n",
    "#distribuição Y\n",
    "a=50\n",
    "b=80\n",
    "scale=b-a\n",
    "\n",
    "#Consumo\n",
    "c_xy = lambda x, y : 0.01+0.05*x+.3*y"
   ]
  },
  {
   "cell_type": "code",
   "execution_count": 110,
   "metadata": {},
   "outputs": [],
   "source": [
    "# distância percorrida correspondente ao quantil de ordem 20% da distribuição de probabilidades de X\n",
    "x=norm.ppf(.2, loc=mu, scale=sigma)\n",
    "# velocidade média de 55km/h\n",
    "y=uniform.cdf(55, loc=a, scale=scale)"
   ]
  },
  {
   "cell_type": "code",
   "execution_count": 111,
   "metadata": {},
   "outputs": [
    {
     "name": "stdout",
     "output_type": "stream",
     "text": [
      "O consumo previsto para esta viagem é de 12.96\n"
     ]
    }
   ],
   "source": [
    "print(f'O consumo previsto para esta viagem é de {c_xy(x, y):.2f}')"
   ]
  },
  {
   "attachments": {},
   "cell_type": "markdown",
   "metadata": {},
   "source": [
    "##### <div id=\"p5b\"></div>\n",
    "\n",
    "**P5(b)**<br>\n",
    "Nessa empresa, uma viagem é considerada com *itinerário intermediário* se essa possuir distância total percorrida entre 265 e 350 km. <br>\n",
    "Se uma viagem for de itinerário intermediário, qual a probabilidade de que essa tenha distância total percorrida acima de 335 km? <br>\n",
    "Justifique sua resposta."
   ]
  },
  {
   "cell_type": "code",
   "execution_count": 112,
   "metadata": {},
   "outputs": [],
   "source": [
    "intermed = norm.cdf(350, loc=mu,scale=sigma)-norm.cdf(265, loc=mu,scale=sigma)\n",
    "mais_q_335 = 1-norm.cdf(335, loc=mu,scale=sigma)\n"
   ]
  },
  {
   "cell_type": "code",
   "execution_count": 113,
   "metadata": {},
   "outputs": [],
   "source": [
    "Pmais335_dado_intermed=intermed*mais_q_335/(1-intermed)"
   ]
  },
  {
   "cell_type": "code",
   "execution_count": 114,
   "metadata": {},
   "outputs": [
    {
     "data": {
      "text/plain": [
       "0.36201096930849486"
      ]
     },
     "execution_count": 114,
     "metadata": {},
     "output_type": "execute_result"
    }
   ],
   "source": [
    "Pmais335_dado_intermed"
   ]
  },
  {
   "attachments": {},
   "cell_type": "markdown",
   "metadata": {},
   "source": [
    "##### <div id=\"p5c\"></div>\n",
    "\n",
    "**P5(c)**<br>\n",
    "\n",
    "**Relembrando algumas informações já fornecidas no enunciado desta pergunta para auxiliar na resolução do item (c):**\n",
    " * C = 0.01 + 0.05 X + 0.30 Y\n",
    " * X segue uma distribuição normal com média igual a 300 km e desvio padrão igual a 50 km \n",
    " * Y segue uma distribuição uniforme entre 50 km/h e 80 km/h. \n",
    " * Correlação entre a X e Y igual a 0,70. \n",
    "\n",
    "**Enunciado do item (c):** <br>\n",
    "Calcule o valor esperado do consumo total e respectivo desvio padrão, ou seja, calcule E(C) e DP(C). <br>\n",
    "Justifique sua resposta."
   ]
  },
  {
   "cell_type": "code",
   "execution_count": 115,
   "metadata": {},
   "outputs": [],
   "source": [
    "E_x=norm.mean(loc=mu, scale=sigma)\n",
    "E_y=uniform.mean(loc=a,scale=scale)\n",
    "\n",
    "var_x=norm.var(loc=mu, scale=sigma)\n",
    "var_y=uniform.var(loc=a,scale=scale)\n",
    "\n",
    "# constantes, escalares e covariancia\n",
    "c   = 0.01 # constante\n",
    "m   = 0.05 # escalar que multiplica X\n",
    "n   = 0.3  # escalar que multiplica Y\n",
    "cov = 0.7  # covariancia de X e Y"
   ]
  },
  {
   "attachments": {},
   "cell_type": "markdown",
   "metadata": {},
   "source": [
    "#### Calculando a esperança:\n",
    "Para calcular a esperança do consumo, deve-se aplicar a propriedade de soma por constante e multiplicação por escalar, tal que:\n",
    "\n",
    "#### _E(c + mX + nY) = m * E(x) + n * E(Y) + c_ "
   ]
  },
  {
   "cell_type": "code",
   "execution_count": 116,
   "metadata": {},
   "outputs": [],
   "source": [
    "# Esperança do consumo\n",
    "\n",
    "E_c= c+m*E_x+n*E_y"
   ]
  },
  {
   "attachments": {},
   "cell_type": "markdown",
   "metadata": {},
   "source": [
    "#### Calculando a variancia:\n",
    "Para calcular a variancia do consumo, deve-se aplicar a propriedade de soma por constante e multiplicação por escalar assim como a combinação linear, tal que:\n",
    "\n",
    "#### _V(c + mX + nY) = m^2 * V(x) + n^2 * V(Y) + 2 * m*n*Cov_ "
   ]
  },
  {
   "cell_type": "code",
   "execution_count": 117,
   "metadata": {},
   "outputs": [],
   "source": [
    "V_c = m**2*var_x+n**2*var_y+2*m*n*cov"
   ]
  },
  {
   "attachments": {},
   "cell_type": "markdown",
   "metadata": {},
   "source": [
    "#### Sabendo que:\n",
    "_Var = DesvPad²_\n",
    "\n",
    "temos:"
   ]
  },
  {
   "cell_type": "code",
   "execution_count": 118,
   "metadata": {},
   "outputs": [],
   "source": [
    "dp_c=sqrt(V_c)"
   ]
  },
  {
   "attachments": {},
   "cell_type": "markdown",
   "metadata": {},
   "source": [
    "#### Concluindo"
   ]
  },
  {
   "cell_type": "code",
   "execution_count": 119,
   "metadata": {},
   "outputs": [
    {
     "name": "stdout",
     "output_type": "stream",
     "text": [
      "A esperança do consumo é de 34.510\n",
      "O Desvio Padrão do consumo é 3.608\n"
     ]
    }
   ],
   "source": [
    "print(f'A esperança do consumo é de {E_c:.3f}\\nO Desvio Padrão do consumo é {dp_c:.3f}')"
   ]
  },
  {
   "attachments": {},
   "cell_type": "markdown",
   "metadata": {},
   "source": [
    "##### <div id=\"p5d\"></div>\n",
    "\n",
    "**P5(d)**<br>\n",
    "\n",
    "**Relembrando algumas informações já fornecidas no enunciado desta pergunta na resolução do item (d)::**\n",
    " * C = 0.01 + 0.05 X + 0.30 Y\n",
    " * X segue uma distribuição normal com média igual a 300 km e desvio padrão igual a 50 km \n",
    " * Y segue uma distribuição uniforme entre 50 km/h e 80 km/h. \n",
    " * Neste item (d), considere que X e Y são independentes.\n",
    " \n",
    "**Enunciado do item (d):** <br>\n",
    "Para estudarmos como ficaria a distribuição de C = 0.01 + 0.05 X + 0.30 Y, pode-se simular alguns valores para representar $X$ conforme sua distribuição normal e $Y$ conforme sua distribuição uniforme mencionadas acima. \n",
    "\n",
    "Para tanto, no `scipy.stats`, a função que gera uma amostra de valores conforme uma distribuição qualquer é a função `rvs()` (de *random variable sample*). Neste item, deve utilizar `norm.rvs()` e `uniform.rvs` com os valores dos parâmetros adequadamente aos citados anteriormente.\n",
    "\n",
    "Assim, faça:\n",
    "  * Simule $n=1000$ valores para construir uma amostra de X utilizando sua distribuição normal\n",
    "  * Simular $n=1000$ valores para construir uma amostra de Y utilizando sua distribuição uniforme\n",
    "  * Calcule o valor de C dado por C = 0.01 + 0.05 X + 0.30 Y\n",
    "  * Construa um histograma com os valores simulados para X, um histograma com os valores simulados para Y e um histograma com os valores calculados para C."
   ]
  },
  {
   "cell_type": "code",
   "execution_count": 120,
   "metadata": {},
   "outputs": [],
   "source": [
    "# numero de valores\n",
    "n= 1000\n",
    "\n",
    "#simulando x\n",
    "simulacao_x=norm.rvs(size=n, loc=mu, scale=sigma)\n",
    "\n",
    "#simulando y\n",
    "simulacao_y=uniform.rvs(size=n, loc=a, scale=scale)"
   ]
  },
  {
   "cell_type": "code",
   "execution_count": 121,
   "metadata": {},
   "outputs": [],
   "source": [
    "# montando a simulação em c\n",
    "simulacao_c=(c+m*simulacao_x+n*simulacao_y)"
   ]
  },
  {
   "cell_type": "code",
   "execution_count": 122,
   "metadata": {},
   "outputs": [
    {
     "data": {
      "image/png": "[encoded data removed]",
      "text/plain": [
       "<Figure size 1080x1440 with 3 Axes>"
      ]
     },
     "metadata": {
      "needs_background": "light"
     },
     "output_type": "display_data"
    }
   ],
   "source": [
    "plt.figure(figsize=(15,20))\n",
    "plt.subplot(3,1,1)\n",
    "plt.hist(simulacao_x, bins=30, density=True)\n",
    "plt.xlabel('Simulação da distância (X)')\n",
    "plt.ylabel('Densidade')\n",
    "plt.subplot(3,1,2)\n",
    "plt.hist(simulacao_y, bins=30, density=True)\n",
    "plt.xlabel('Simulação da velocidade (Y)')\n",
    "plt.ylabel('Densidade')\n",
    "plt.subplot(3,1,3)\n",
    "plt.hist(simulacao_c, bins=30, density=True)\n",
    "plt.xlabel('Simulação do consumo (C)')\n",
    "plt.ylabel('Densidade')\n",
    "plt.show()\n"
   ]
  },
  {
   "attachments": {},
   "cell_type": "markdown",
   "metadata": {},
   "source": [
    "[Volta ao Índice](#indice)"
   ]
  }
 ],
 "metadata": {
  "kernelspec": {
   "display_name": "Python 3",
   "language": "python",
   "name": "python3"
  },
  "language_info": {
   "codemirror_mode": {
    "name": "ipython",
    "version": 3
   },
   "file_extension": ".py",
   "mimetype": "text/x-python",
   "name": "python",
   "nbconvert_exporter": "python",
   "pygments_lexer": "ipython3",
   "version": "3.9.12"
  }
 },
 "nbformat": 4,
 "nbformat_minor": 4
}
